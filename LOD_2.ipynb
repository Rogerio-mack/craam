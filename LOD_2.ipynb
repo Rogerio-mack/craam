{
  "nbformat": 4,
  "nbformat_minor": 0,
  "metadata": {
    "colab": {
      "name": "LOD_2.ipynb",
      "provenance": [],
      "authorship_tag": "ABX9TyPtxwZxpFhmvmQDjL3HXfaD",
      "include_colab_link": true
    },
    "kernelspec": {
      "name": "python3",
      "display_name": "Python 3"
    },
    "language_info": {
      "name": "python"
    }
  },
  "cells": [
    {
      "cell_type": "markdown",
      "metadata": {
        "id": "view-in-github",
        "colab_type": "text"
      },
      "source": [
        "<a href=\"https://colab.research.google.com/github/Rogerio-mack/craam/blob/main/LOD_2.ipynb\" target=\"_parent\"><img src=\"https://colab.research.google.com/assets/colab-badge.svg\" alt=\"Open In Colab\"/></a>"
      ]
    },
    {
      "cell_type": "markdown",
      "source": [
        "Pacote para obter o LOD anual\n",
        "\n",
        "https://rhodesmill.org/skyfield/toc.html\n",
        "\n",
        "Dados -2000 a 2050 do LOD\n",
        "\n",
        "http://astro.ukho.gov.uk/nao/lvm/\n",
        "\n",
        "https://hpiers.obspm.fr/eop-pc/index.php?index=C04&lang=en#note2\n",
        "\n",
        "https://hpiers.obspm.fr/eop-pc/products/combined/C04.php?date=1&eop=33&year1=1962&month1=1&day1=1&year2=2022&month2=12&day2=31&SUBMIT=Submit+Search\n",
        "\n",
        "https://www.iers.org/IERS/EN/Science/EarthRotation/LODsince1623.html?nn=12932\n",
        "\n",
        "Artigo, com análise espectral\n",
        "\n",
        "https://iopscience.iop.org/article/10.1088/1742-6596/1705/1/012002/pdf\n",
        "\n",
        "\n",
        "\n"
      ],
      "metadata": {
        "id": "CJvO0WR-pGIs"
      }
    },
    {
      "cell_type": "code",
      "source": [
        "!pip install skyfield"
      ],
      "metadata": {
        "colab": {
          "base_uri": "https://localhost:8080/"
        },
        "id": "buLb9mU9mNtM",
        "outputId": "e91d60e3-ed5d-4376-ccca-36ff82e63ec9"
      },
      "execution_count": 1,
      "outputs": [
        {
          "output_type": "stream",
          "name": "stdout",
          "text": [
            "Collecting skyfield\n",
            "  Downloading skyfield-1.42.tar.gz (391 kB)\n",
            "\u001b[K     |████████████████████████████████| 391 kB 27.4 MB/s \n",
            "\u001b[?25hRequirement already satisfied: certifi>=2017.4.17 in /usr/local/lib/python3.7/dist-packages (from skyfield) (2021.10.8)\n",
            "Collecting jplephem>=2.13\n",
            "  Downloading jplephem-2.17.tar.gz (40 kB)\n",
            "\u001b[K     |████████████████████████████████| 40 kB 5.1 MB/s \n",
            "\u001b[?25hRequirement already satisfied: numpy in /usr/local/lib/python3.7/dist-packages (from skyfield) (1.21.5)\n",
            "Collecting sgp4>=2.2\n",
            "  Downloading sgp4-2.20-cp37-cp37m-manylinux2010_x86_64.whl (258 kB)\n",
            "\u001b[K     |████████████████████████████████| 258 kB 27.9 MB/s \n",
            "\u001b[?25hBuilding wheels for collected packages: skyfield, jplephem\n",
            "  Building wheel for skyfield (setup.py) ... \u001b[?25l\u001b[?25hdone\n",
            "  Created wheel for skyfield: filename=skyfield-1.42-py3-none-any.whl size=436509 sha256=34bb0d0294798dbfebe33cc20ca5f9e7997c5c7f8cf64b476672d66aa2b083bc\n",
            "  Stored in directory: /root/.cache/pip/wheels/f8/37/bb/01a58b55ad1551ff4828713f195fd20c4c0a58f76504684727\n",
            "  Building wheel for jplephem (setup.py) ... \u001b[?25l\u001b[?25hdone\n",
            "  Created wheel for jplephem: filename=jplephem-2.17-py3-none-any.whl size=46328 sha256=a1d5d2920b8244c2bdf00d4a23018c886d7875f56b8df400321180cd60424833\n",
            "  Stored in directory: /root/.cache/pip/wheels/6c/fe/9c/2b3a1f7d639f9833f5cd79a2e62cb5d6f7901ee731e6cfd6e1\n",
            "Successfully built skyfield jplephem\n",
            "Installing collected packages: sgp4, jplephem, skyfield\n",
            "Successfully installed jplephem-2.17 sgp4-2.20 skyfield-1.42\n"
          ]
        }
      ]
    },
    {
      "cell_type": "code",
      "source": [
        "import skyfield, skyfield.api"
      ],
      "metadata": {
        "id": "49EZWqF_mcI8"
      },
      "execution_count": 3,
      "outputs": []
    },
    {
      "cell_type": "code",
      "execution_count": 6,
      "metadata": {
        "colab": {
          "base_uri": "https://localhost:8080/"
        },
        "id": "BGTb48j3mMOp",
        "outputId": "aaeb87d9-26eb-4767-96df-27cf9d5467af"
      },
      "outputs": [
        {
          "output_type": "stream",
          "name": "stdout",
          "text": [
            "skyfield 1.42\n",
            "2021: ∆T = 69.359497s\n",
            "2022: ∆T = 69.291632s\n",
            "2023: ∆T = 69.201111s\n",
            "2024: ∆T = 69.118414s\n"
          ]
        }
      ],
      "source": [
        "import skyfield, skyfield.api\n",
        "\n",
        "print(skyfield.__name__, skyfield.__version__)\n",
        "ts = skyfield.api.load.timescale()\n",
        "for yr in range(2021,2025):\n",
        "    print(\"{}: ∆T = {:5f}s\".format(yr, ts.J(yr).delta_t))"
      ]
    },
    {
      "cell_type": "code",
      "source": [
        "ts.delta_t_table"
      ],
      "metadata": {
        "colab": {
          "base_uri": "https://localhost:8080/"
        },
        "id": "FGfLZ5Mdms5c",
        "outputId": "bd3a6757-c4e9-4556-dff2-e3759650f0c1"
      },
      "execution_count": 7,
      "outputs": [
        {
          "output_type": "execute_result",
          "data": {
            "text/plain": [
              "(array([2441684.50051139, 2441685.50051139, 2441686.50051139, ...,\n",
              "        2459928.50080074, 2459929.50080074, 2459930.50080074]),\n",
              " array([43.3755822, 43.3783837, 43.3812105, ..., 69.2047548, 69.2046964,\n",
              "        69.2048023]))"
            ]
          },
          "metadata": {},
          "execution_count": 7
        }
      ]
    },
    {
      "cell_type": "code",
      "source": [
        "for yr in range(-1000,2021):\n",
        "  ts.J(yr).delta_t"
      ],
      "metadata": {
        "id": "n524eIG8n35k"
      },
      "execution_count": 12,
      "outputs": []
    },
    {
      "cell_type": "code",
      "source": [
        "import matplotlib.pyplot as plt\n",
        "%matplotlib inline\n",
        "import numpy as np\n",
        "\n",
        "plt.plot(ts.delta_t_table[1])\n",
        "plt.show()"
      ],
      "metadata": {
        "colab": {
          "base_uri": "https://localhost:8080/",
          "height": 265
        },
        "id": "ia8yJMInoE8U",
        "outputId": "8befdc43-e1d3-46b3-fe2b-5346c34dbe97"
      },
      "execution_count": 13,
      "outputs": [
        {
          "output_type": "display_data",
          "data": {
            "text/plain": [
              "<Figure size 432x288 with 1 Axes>"
            ],
            "image/png": "[encoded data removed]"
          },
          "metadata": {
            "needs_background": "light"
          }
        }
      ]
    }
  ]
}