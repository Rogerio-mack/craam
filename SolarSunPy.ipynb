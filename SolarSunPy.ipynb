{
  "nbformat": 4,
  "nbformat_minor": 0,
  "metadata": {
    "colab": {
      "name": "SolarSunPy.ipynb",
      "provenance": [],
      "authorship_tag": "ABX9TyPEMUsnkUK0l8c0OqTfk3R9",
      "include_colab_link": true
    },
    "kernelspec": {
      "name": "python3",
      "display_name": "Python 3"
    },
    "language_info": {
      "name": "python"
    },
    "widgets": {
      "application/vnd.jupyter.widget-state+json": {
        "51eb0e6483de4610b9abfb7203cafefd": {
          "model_module": "@jupyter-widgets/controls",
          "model_name": "HBoxModel",
          "model_module_version": "1.5.0",
          "state": {
            "_dom_classes": [],
            "_model_module": "@jupyter-widgets/controls",
            "_model_module_version": "1.5.0",
            "_model_name": "HBoxModel",
            "_view_count": null,
            "_view_module": "@jupyter-widgets/controls",
            "_view_module_version": "1.5.0",
            "_view_name": "HBoxView",
            "box_style": "",
            "children": [
              "IPY_MODEL_b24236db102140119042fe1582b3bea4",
              "IPY_MODEL_397a46f0947a4d7ea9c1542c50af3277",
              "IPY_MODEL_44cbba66da524c1da8c550e9a6d09c75"
            ],
            "layout": "IPY_MODEL_9c79f5a3289241eebf9ff2c0486785ef"
          }
        },
        "b24236db102140119042fe1582b3bea4": {
          "model_module": "@jupyter-widgets/controls",
          "model_name": "HTMLModel",
          "model_module_version": "1.5.0",
          "state": {
            "_dom_classes": [],
            "_model_module": "@jupyter-widgets/controls",
            "_model_module_version": "1.5.0",
            "_model_name": "HTMLModel",
            "_view_count": null,
            "_view_module": "@jupyter-widgets/controls",
            "_view_module_version": "1.5.0",
            "_view_name": "HTMLView",
            "description": "",
            "description_tooltip": null,
            "layout": "IPY_MODEL_f1661aa0723d41928bc75f358f583b52",
            "placeholder": "​",
            "style": "IPY_MODEL_3cb361eafa2744bc940779d60b1a6ce0",
            "value": "Files Downloaded: 100%"
          }
        },
        "397a46f0947a4d7ea9c1542c50af3277": {
          "model_module": "@jupyter-widgets/controls",
          "model_name": "FloatProgressModel",
          "model_module_version": "1.5.0",
          "state": {
            "_dom_classes": [],
            "_model_module": "@jupyter-widgets/controls",
            "_model_module_version": "1.5.0",
            "_model_name": "FloatProgressModel",
            "_view_count": null,
            "_view_module": "@jupyter-widgets/controls",
            "_view_module_version": "1.5.0",
            "_view_name": "ProgressView",
            "bar_style": "success",
            "description": "",
            "description_tooltip": null,
            "layout": "IPY_MODEL_08f1056d4d0640a8a3be07f64c417e55",
            "max": 1,
            "min": 0,
            "orientation": "horizontal",
            "style": "IPY_MODEL_9be2092788a14fc382eae672fbb66506",
            "value": 1
          }
        },
        "44cbba66da524c1da8c550e9a6d09c75": {
          "model_module": "@jupyter-widgets/controls",
          "model_name": "HTMLModel",
          "model_module_version": "1.5.0",
          "state": {
            "_dom_classes": [],
            "_model_module": "@jupyter-widgets/controls",
            "_model_module_version": "1.5.0",
            "_model_name": "HTMLModel",
            "_view_count": null,
            "_view_module": "@jupyter-widgets/controls",
            "_view_module_version": "1.5.0",
            "_view_name": "HTMLView",
            "description": "",
            "description_tooltip": null,
            "layout": "IPY_MODEL_85fd3dd9950c4b7f9d0788f09eeed08e",
            "placeholder": "​",
            "style": "IPY_MODEL_ee7d99bea0aa4d74b357d7b41fe412fe",
            "value": " 1/1 [00:01&lt;00:00,  1.64s/file]"
          }
        },
        "9c79f5a3289241eebf9ff2c0486785ef": {
          "model_module": "@jupyter-widgets/base",
          "model_name": "LayoutModel",
          "model_module_version": "1.2.0",
          "state": {
            "_model_module": "@jupyter-widgets/base",
            "_model_module_version": "1.2.0",
            "_model_name": "LayoutModel",
            "_view_count": null,
            "_view_module": "@jupyter-widgets/base",
            "_view_module_version": "1.2.0",
            "_view_name": "LayoutView",
            "align_content": null,
            "align_items": null,
            "align_self": null,
            "border": null,
            "bottom": null,
            "display": null,
            "flex": null,
            "flex_flow": null,
            "grid_area": null,
            "grid_auto_columns": null,
            "grid_auto_flow": null,
            "grid_auto_rows": null,
            "grid_column": null,
            "grid_gap": null,
            "grid_row": null,
            "grid_template_areas": null,
            "grid_template_columns": null,
            "grid_template_rows": null,
            "height": null,
            "justify_content": null,
            "justify_items": null,
            "left": null,
            "margin": null,
            "max_height": null,
            "max_width": null,
            "min_height": null,
            "min_width": null,
            "object_fit": null,
            "object_position": null,
            "order": null,
            "overflow": null,
            "overflow_x": null,
            "overflow_y": null,
            "padding": null,
            "right": null,
            "top": null,
            "visibility": null,
            "width": null
          }
        },
        "f1661aa0723d41928bc75f358f583b52": {
          "model_module": "@jupyter-widgets/base",
          "model_name": "LayoutModel",
          "model_module_version": "1.2.0",
          "state": {
            "_model_module": "@jupyter-widgets/base",
            "_model_module_version": "1.2.0",
            "_model_name": "LayoutModel",
            "_view_count": null,
            "_view_module": "@jupyter-widgets/base",
            "_view_module_version": "1.2.0",
            "_view_name": "LayoutView",
            "align_content": null,
            "align_items": null,
            "align_self": null,
            "border": null,
            "bottom": null,
            "display": null,
            "flex": null,
            "flex_flow": null,
            "grid_area": null,
            "grid_auto_columns": null,
            "grid_auto_flow": null,
            "grid_auto_rows": null,
            "grid_column": null,
            "grid_gap": null,
            "grid_row": null,
            "grid_template_areas": null,
            "grid_template_columns": null,
            "grid_template_rows": null,
            "height": null,
            "justify_content": null,
            "justify_items": null,
            "left": null,
            "margin": null,
            "max_height": null,
            "max_width": null,
            "min_height": null,
            "min_width": null,
            "object_fit": null,
            "object_position": null,
            "order": null,
            "overflow": null,
            "overflow_x": null,
            "overflow_y": null,
            "padding": null,
            "right": null,
            "top": null,
            "visibility": null,
            "width": null
          }
        },
        "3cb361eafa2744bc940779d60b1a6ce0": {
          "model_module": "@jupyter-widgets/controls",
          "model_name": "DescriptionStyleModel",
          "model_module_version": "1.5.0",
          "state": {
            "_model_module": "@jupyter-widgets/controls",
            "_model_module_version": "1.5.0",
            "_model_name": "DescriptionStyleModel",
            "_view_count": null,
            "_view_module": "@jupyter-widgets/base",
            "_view_module_version": "1.2.0",
            "_view_name": "StyleView",
            "description_width": ""
          }
        },
        "08f1056d4d0640a8a3be07f64c417e55": {
          "model_module": "@jupyter-widgets/base",
          "model_name": "LayoutModel",
          "model_module_version": "1.2.0",
          "state": {
            "_model_module": "@jupyter-widgets/base",
            "_model_module_version": "1.2.0",
            "_model_name": "LayoutModel",
            "_view_count": null,
            "_view_module": "@jupyter-widgets/base",
            "_view_module_version": "1.2.0",
            "_view_name": "LayoutView",
            "align_content": null,
            "align_items": null,
            "align_self": null,
            "border": null,
            "bottom": null,
            "display": null,
            "flex": null,
            "flex_flow": null,
            "grid_area": null,
            "grid_auto_columns": null,
            "grid_auto_flow": null,
            "grid_auto_rows": null,
            "grid_column": null,
            "grid_gap": null,
            "grid_row": null,
            "grid_template_areas": null,
            "grid_template_columns": null,
            "grid_template_rows": null,
            "height": null,
            "justify_content": null,
            "justify_items": null,
            "left": null,
            "margin": null,
            "max_height": null,
            "max_width": null,
            "min_height": null,
            "min_width": null,
            "object_fit": null,
            "object_position": null,
            "order": null,
            "overflow": null,
            "overflow_x": null,
            "overflow_y": null,
            "padding": null,
            "right": null,
            "top": null,
            "visibility": null,
            "width": null
          }
        },
        "9be2092788a14fc382eae672fbb66506": {
          "model_module": "@jupyter-widgets/controls",
          "model_name": "ProgressStyleModel",
          "model_module_version": "1.5.0",
          "state": {
            "_model_module": "@jupyter-widgets/controls",
            "_model_module_version": "1.5.0",
            "_model_name": "ProgressStyleModel",
            "_view_count": null,
            "_view_module": "@jupyter-widgets/base",
            "_view_module_version": "1.2.0",
            "_view_name": "StyleView",
            "bar_color": null,
            "description_width": ""
          }
        },
        "85fd3dd9950c4b7f9d0788f09eeed08e": {
          "model_module": "@jupyter-widgets/base",
          "model_name": "LayoutModel",
          "model_module_version": "1.2.0",
          "state": {
            "_model_module": "@jupyter-widgets/base",
            "_model_module_version": "1.2.0",
            "_model_name": "LayoutModel",
            "_view_count": null,
            "_view_module": "@jupyter-widgets/base",
            "_view_module_version": "1.2.0",
            "_view_name": "LayoutView",
            "align_content": null,
            "align_items": null,
            "align_self": null,
            "border": null,
            "bottom": null,
            "display": null,
            "flex": null,
            "flex_flow": null,
            "grid_area": null,
            "grid_auto_columns": null,
            "grid_auto_flow": null,
            "grid_auto_rows": null,
            "grid_column": null,
            "grid_gap": null,
            "grid_row": null,
            "grid_template_areas": null,
            "grid_template_columns": null,
            "grid_template_rows": null,
            "height": null,
            "justify_content": null,
            "justify_items": null,
            "left": null,
            "margin": null,
            "max_height": null,
            "max_width": null,
            "min_height": null,
            "min_width": null,
            "object_fit": null,
            "object_position": null,
            "order": null,
            "overflow": null,
            "overflow_x": null,
            "overflow_y": null,
            "padding": null,
            "right": null,
            "top": null,
            "visibility": null,
            "width": null
          }
        },
        "ee7d99bea0aa4d74b357d7b41fe412fe": {
          "model_module": "@jupyter-widgets/controls",
          "model_name": "DescriptionStyleModel",
          "model_module_version": "1.5.0",
          "state": {
            "_model_module": "@jupyter-widgets/controls",
            "_model_module_version": "1.5.0",
            "_model_name": "DescriptionStyleModel",
            "_view_count": null,
            "_view_module": "@jupyter-widgets/base",
            "_view_module_version": "1.2.0",
            "_view_name": "StyleView",
            "description_width": ""
          }
        },
        "85f045506e7b44f5a72e83555bd115a2": {
          "model_module": "@jupyter-widgets/controls",
          "model_name": "HBoxModel",
          "model_module_version": "1.5.0",
          "state": {
            "_dom_classes": [],
            "_model_module": "@jupyter-widgets/controls",
            "_model_module_version": "1.5.0",
            "_model_name": "HBoxModel",
            "_view_count": null,
            "_view_module": "@jupyter-widgets/controls",
            "_view_module_version": "1.5.0",
            "_view_name": "HBoxView",
            "box_style": "",
            "children": [
              "IPY_MODEL_e43e1590a9614b1cad9898fae3572a7d",
              "IPY_MODEL_501ee54468864e02958f2d4e07cad705",
              "IPY_MODEL_d03c5444dbf948e4a76d064b44f77345"
            ],
            "layout": "IPY_MODEL_cdb55fc139e84a30ab7a44857d444171"
          }
        },
        "e43e1590a9614b1cad9898fae3572a7d": {
          "model_module": "@jupyter-widgets/controls",
          "model_name": "HTMLModel",
          "model_module_version": "1.5.0",
          "state": {
            "_dom_classes": [],
            "_model_module": "@jupyter-widgets/controls",
            "_model_module_version": "1.5.0",
            "_model_name": "HTMLModel",
            "_view_count": null,
            "_view_module": "@jupyter-widgets/controls",
            "_view_module_version": "1.5.0",
            "_view_name": "HTMLView",
            "description": "",
            "description_tooltip": null,
            "layout": "IPY_MODEL_f1372ac55d7549f794642d8d58e2228d",
            "placeholder": "​",
            "style": "IPY_MODEL_7736cc100a5141fc99496a8878dfbff9",
            "value": "sci_gxrs-l2-irrad_g15_d20150621_v0-0-0.nc: "
          }
        },
        "501ee54468864e02958f2d4e07cad705": {
          "model_module": "@jupyter-widgets/controls",
          "model_name": "FloatProgressModel",
          "model_module_version": "1.5.0",
          "state": {
            "_dom_classes": [],
            "_model_module": "@jupyter-widgets/controls",
            "_model_module_version": "1.5.0",
            "_model_name": "FloatProgressModel",
            "_view_count": null,
            "_view_module": "@jupyter-widgets/controls",
            "_view_module_version": "1.5.0",
            "_view_name": "ProgressView",
            "bar_style": "",
            "description": "",
            "description_tooltip": null,
            "layout": "IPY_MODEL_fc386e7b80fd4fc282b716f53bf5cc10",
            "max": 814373,
            "min": 0,
            "orientation": "horizontal",
            "style": "IPY_MODEL_7c497854c6914fa1aec4b59f256abb52",
            "value": 814373
          }
        },
        "d03c5444dbf948e4a76d064b44f77345": {
          "model_module": "@jupyter-widgets/controls",
          "model_name": "HTMLModel",
          "model_module_version": "1.5.0",
          "state": {
            "_dom_classes": [],
            "_model_module": "@jupyter-widgets/controls",
            "_model_module_version": "1.5.0",
            "_model_name": "HTMLModel",
            "_view_count": null,
            "_view_module": "@jupyter-widgets/controls",
            "_view_module_version": "1.5.0",
            "_view_name": "HTMLView",
            "description": "",
            "description_tooltip": null,
            "layout": "IPY_MODEL_fda735409b444de7b5b70b233561f973",
            "placeholder": "​",
            "style": "IPY_MODEL_cf9704693bd7446e819d1fc0b10a5abe",
            "value": " 814k/? [00:19&lt;00:00, 1.51MB/s]"
          }
        },
        "cdb55fc139e84a30ab7a44857d444171": {
          "model_module": "@jupyter-widgets/base",
          "model_name": "LayoutModel",
          "model_module_version": "1.2.0",
          "state": {
            "_model_module": "@jupyter-widgets/base",
            "_model_module_version": "1.2.0",
            "_model_name": "LayoutModel",
            "_view_count": null,
            "_view_module": "@jupyter-widgets/base",
            "_view_module_version": "1.2.0",
            "_view_name": "LayoutView",
            "align_content": null,
            "align_items": null,
            "align_self": null,
            "border": null,
            "bottom": null,
            "display": null,
            "flex": null,
            "flex_flow": null,
            "grid_area": null,
            "grid_auto_columns": null,
            "grid_auto_flow": null,
            "grid_auto_rows": null,
            "grid_column": null,
            "grid_gap": null,
            "grid_row": null,
            "grid_template_areas": null,
            "grid_template_columns": null,
            "grid_template_rows": null,
            "height": null,
            "justify_content": null,
            "justify_items": null,
            "left": null,
            "margin": null,
            "max_height": null,
            "max_width": null,
            "min_height": null,
            "min_width": null,
            "object_fit": null,
            "object_position": null,
            "order": null,
            "overflow": null,
            "overflow_x": null,
            "overflow_y": null,
            "padding": null,
            "right": null,
            "top": null,
            "visibility": null,
            "width": null
          }
        },
        "f1372ac55d7549f794642d8d58e2228d": {
          "model_module": "@jupyter-widgets/base",
          "model_name": "LayoutModel",
          "model_module_version": "1.2.0",
          "state": {
            "_model_module": "@jupyter-widgets/base",
            "_model_module_version": "1.2.0",
            "_model_name": "LayoutModel",
            "_view_count": null,
            "_view_module": "@jupyter-widgets/base",
            "_view_module_version": "1.2.0",
            "_view_name": "LayoutView",
            "align_content": null,
            "align_items": null,
            "align_self": null,
            "border": null,
            "bottom": null,
            "display": null,
            "flex": null,
            "flex_flow": null,
            "grid_area": null,
            "grid_auto_columns": null,
            "grid_auto_flow": null,
            "grid_auto_rows": null,
            "grid_column": null,
            "grid_gap": null,
            "grid_row": null,
            "grid_template_areas": null,
            "grid_template_columns": null,
            "grid_template_rows": null,
            "height": null,
            "justify_content": null,
            "justify_items": null,
            "left": null,
            "margin": null,
            "max_height": null,
            "max_width": null,
            "min_height": null,
            "min_width": null,
            "object_fit": null,
            "object_position": null,
            "order": null,
            "overflow": null,
            "overflow_x": null,
            "overflow_y": null,
            "padding": null,
            "right": null,
            "top": null,
            "visibility": null,
            "width": null
          }
        },
        "7736cc100a5141fc99496a8878dfbff9": {
          "model_module": "@jupyter-widgets/controls",
          "model_name": "DescriptionStyleModel",
          "model_module_version": "1.5.0",
          "state": {
            "_model_module": "@jupyter-widgets/controls",
            "_model_module_version": "1.5.0",
            "_model_name": "DescriptionStyleModel",
            "_view_count": null,
            "_view_module": "@jupyter-widgets/base",
            "_view_module_version": "1.2.0",
            "_view_name": "StyleView",
            "description_width": ""
          }
        },
        "fc386e7b80fd4fc282b716f53bf5cc10": {
          "model_module": "@jupyter-widgets/base",
          "model_name": "LayoutModel",
          "model_module_version": "1.2.0",
          "state": {
            "_model_module": "@jupyter-widgets/base",
            "_model_module_version": "1.2.0",
            "_model_name": "LayoutModel",
            "_view_count": null,
            "_view_module": "@jupyter-widgets/base",
            "_view_module_version": "1.2.0",
            "_view_name": "LayoutView",
            "align_content": null,
            "align_items": null,
            "align_self": null,
            "border": null,
            "bottom": null,
            "display": null,
            "flex": null,
            "flex_flow": null,
            "grid_area": null,
            "grid_auto_columns": null,
            "grid_auto_flow": null,
            "grid_auto_rows": null,
            "grid_column": null,
            "grid_gap": null,
            "grid_row": null,
            "grid_template_areas": null,
            "grid_template_columns": null,
            "grid_template_rows": null,
            "height": null,
            "justify_content": null,
            "justify_items": null,
            "left": null,
            "margin": null,
            "max_height": null,
            "max_width": null,
            "min_height": null,
            "min_width": null,
            "object_fit": null,
            "object_position": null,
            "order": null,
            "overflow": null,
            "overflow_x": null,
            "overflow_y": null,
            "padding": null,
            "right": null,
            "top": null,
            "visibility": null,
            "width": null
          }
        },
        "7c497854c6914fa1aec4b59f256abb52": {
          "model_module": "@jupyter-widgets/controls",
          "model_name": "ProgressStyleModel",
          "model_module_version": "1.5.0",
          "state": {
            "_model_module": "@jupyter-widgets/controls",
            "_model_module_version": "1.5.0",
            "_model_name": "ProgressStyleModel",
            "_view_count": null,
            "_view_module": "@jupyter-widgets/base",
            "_view_module_version": "1.2.0",
            "_view_name": "StyleView",
            "bar_color": null,
            "description_width": ""
          }
        },
        "fda735409b444de7b5b70b233561f973": {
          "model_module": "@jupyter-widgets/base",
          "model_name": "LayoutModel",
          "model_module_version": "1.2.0",
          "state": {
            "_model_module": "@jupyter-widgets/base",
            "_model_module_version": "1.2.0",
            "_model_name": "LayoutModel",
            "_view_count": null,
            "_view_module": "@jupyter-widgets/base",
            "_view_module_version": "1.2.0",
            "_view_name": "LayoutView",
            "align_content": null,
            "align_items": null,
            "align_self": null,
            "border": null,
            "bottom": null,
            "display": null,
            "flex": null,
            "flex_flow": null,
            "grid_area": null,
            "grid_auto_columns": null,
            "grid_auto_flow": null,
            "grid_auto_rows": null,
            "grid_column": null,
            "grid_gap": null,
            "grid_row": null,
            "grid_template_areas": null,
            "grid_template_columns": null,
            "grid_template_rows": null,
            "height": null,
            "justify_content": null,
            "justify_items": null,
            "left": null,
            "margin": null,
            "max_height": null,
            "max_width": null,
            "min_height": null,
            "min_width": null,
            "object_fit": null,
            "object_position": null,
            "order": null,
            "overflow": null,
            "overflow_x": null,
            "overflow_y": null,
            "padding": null,
            "right": null,
            "top": null,
            "visibility": null,
            "width": null
          }
        },
        "cf9704693bd7446e819d1fc0b10a5abe": {
          "model_module": "@jupyter-widgets/controls",
          "model_name": "DescriptionStyleModel",
          "model_module_version": "1.5.0",
          "state": {
            "_model_module": "@jupyter-widgets/controls",
            "_model_module_version": "1.5.0",
            "_model_name": "DescriptionStyleModel",
            "_view_count": null,
            "_view_module": "@jupyter-widgets/base",
            "_view_module_version": "1.2.0",
            "_view_name": "StyleView",
            "description_width": ""
          }
        }
      }
    }
  },
  "cells": [
    {
      "cell_type": "markdown",
      "metadata": {
        "id": "view-in-github",
        "colab_type": "text"
      },
      "source": [
        "<a href=\"https://colab.research.google.com/github/Rogerio-mack/craam/blob/main/SolarSunPy.ipynb\" target=\"_parent\"><img src=\"https://colab.research.google.com/assets/colab-badge.svg\" alt=\"Open In Colab\"/></a>"
      ]
    },
    {
      "cell_type": "markdown",
      "source": [
        "https://docs.sunpy.org/en/stable/generated/gallery/acquiring_data/goes_xrs_example.html#sphx-glr-generated-gallery-acquiring-data-goes-xrs-example-py\n",
        "\n",
        "https://solarmonitor.org/chimera.php?date=20220131&type=saia_chimr&region=&indexnum=1"
      ],
      "metadata": {
        "id": "QnpzTx3CI0nF"
      }
    },
    {
      "cell_type": "code",
      "source": [
        "!pip install sunpy"
      ],
      "metadata": {
        "colab": {
          "base_uri": "https://localhost:8080/"
        },
        "id": "7u9qQQ2432Sw",
        "outputId": "e5e0c424-5525-4a4d-b436-5e92a91ffded"
      },
      "execution_count": null,
      "outputs": [
        {
          "output_type": "stream",
          "name": "stdout",
          "text": [
            "Collecting sunpy\n",
            "  Downloading sunpy-3.1.5-cp37-cp37m-manylinux_2_17_x86_64.manylinux2014_x86_64.whl (6.0 MB)\n",
            "\u001b[K     |████████████████████████████████| 6.0 MB 13.6 MB/s \n",
            "\u001b[?25hRequirement already satisfied: numpy>=1.17.0 in /usr/local/lib/python3.7/dist-packages (from sunpy) (1.21.5)\n",
            "Collecting parfive[ftp]>=1.2.0\n",
            "  Downloading parfive-1.5.1-py3-none-any.whl (19 kB)\n",
            "Requirement already satisfied: astropy>=4.2.0 in /usr/local/lib/python3.7/dist-packages (from sunpy) (4.3.1)\n",
            "Requirement already satisfied: packaging>=19.0 in /usr/local/lib/python3.7/dist-packages (from sunpy) (21.3)\n",
            "Requirement already satisfied: importlib-metadata in /usr/local/lib/python3.7/dist-packages (from astropy>=4.2.0->sunpy) (4.11.3)\n",
            "Requirement already satisfied: pyerfa>=1.7.3 in /usr/local/lib/python3.7/dist-packages (from astropy>=4.2.0->sunpy) (2.0.0.1)\n",
            "Requirement already satisfied: pyparsing!=3.0.5,>=2.0.2 in /usr/local/lib/python3.7/dist-packages (from packaging>=19.0->sunpy) (3.0.7)\n",
            "Collecting aiohttp\n",
            "  Downloading aiohttp-3.8.1-cp37-cp37m-manylinux_2_5_x86_64.manylinux1_x86_64.manylinux_2_12_x86_64.manylinux2010_x86_64.whl (1.1 MB)\n",
            "\u001b[K     |████████████████████████████████| 1.1 MB 46.9 MB/s \n",
            "\u001b[?25hRequirement already satisfied: tqdm in /usr/local/lib/python3.7/dist-packages (from parfive[ftp]>=1.2.0->sunpy) (4.63.0)\n",
            "Collecting aioftp>=0.17.1\n",
            "  Downloading aioftp-0.21.0-py3-none-any.whl (37 kB)\n",
            "Collecting aiosignal>=1.1.2\n",
            "  Downloading aiosignal-1.2.0-py3-none-any.whl (8.2 kB)\n",
            "Requirement already satisfied: typing-extensions>=3.7.4 in /usr/local/lib/python3.7/dist-packages (from aiohttp->parfive[ftp]>=1.2.0->sunpy) (3.10.0.2)\n",
            "Requirement already satisfied: attrs>=17.3.0 in /usr/local/lib/python3.7/dist-packages (from aiohttp->parfive[ftp]>=1.2.0->sunpy) (21.4.0)\n",
            "Collecting async-timeout<5.0,>=4.0.0a3\n",
            "  Downloading async_timeout-4.0.2-py3-none-any.whl (5.8 kB)\n",
            "Collecting multidict<7.0,>=4.5\n",
            "  Downloading multidict-6.0.2-cp37-cp37m-manylinux_2_17_x86_64.manylinux2014_x86_64.whl (94 kB)\n",
            "\u001b[K     |████████████████████████████████| 94 kB 2.0 MB/s \n",
            "\u001b[?25hRequirement already satisfied: charset-normalizer<3.0,>=2.0 in /usr/local/lib/python3.7/dist-packages (from aiohttp->parfive[ftp]>=1.2.0->sunpy) (2.0.12)\n",
            "Collecting asynctest==0.13.0\n",
            "  Downloading asynctest-0.13.0-py3-none-any.whl (26 kB)\n",
            "Collecting frozenlist>=1.1.1\n",
            "  Downloading frozenlist-1.3.0-cp37-cp37m-manylinux_2_5_x86_64.manylinux1_x86_64.manylinux_2_17_x86_64.manylinux2014_x86_64.whl (144 kB)\n",
            "\u001b[K     |████████████████████████████████| 144 kB 56.0 MB/s \n",
            "\u001b[?25hCollecting yarl<2.0,>=1.0\n",
            "  Downloading yarl-1.7.2-cp37-cp37m-manylinux_2_5_x86_64.manylinux1_x86_64.manylinux_2_12_x86_64.manylinux2010_x86_64.whl (271 kB)\n",
            "\u001b[K     |████████████████████████████████| 271 kB 72.0 MB/s \n",
            "\u001b[?25hRequirement already satisfied: idna>=2.0 in /usr/local/lib/python3.7/dist-packages (from yarl<2.0,>=1.0->aiohttp->parfive[ftp]>=1.2.0->sunpy) (2.10)\n",
            "Requirement already satisfied: zipp>=0.5 in /usr/local/lib/python3.7/dist-packages (from importlib-metadata->astropy>=4.2.0->sunpy) (3.7.0)\n",
            "Installing collected packages: multidict, frozenlist, yarl, asynctest, async-timeout, aiosignal, aiohttp, parfive, aioftp, sunpy\n",
            "Successfully installed aioftp-0.21.0 aiohttp-3.8.1 aiosignal-1.2.0 async-timeout-4.0.2 asynctest-0.13.0 frozenlist-1.3.0 multidict-6.0.2 parfive-1.5.1 sunpy-3.1.5 yarl-1.7.2\n"
          ]
        }
      ]
    },
    {
      "cell_type": "code",
      "source": [
        "!pip install zeep"
      ],
      "metadata": {
        "colab": {
          "base_uri": "https://localhost:8080/",
          "height": 641
        },
        "id": "ackBw2Wx6VyA",
        "outputId": "79ccf581-442f-4dd7-9bd9-7211dbb0954f"
      },
      "execution_count": null,
      "outputs": [
        {
          "output_type": "stream",
          "name": "stdout",
          "text": [
            "Collecting zeep\n",
            "  Downloading zeep-4.1.0-py2.py3-none-any.whl (100 kB)\n",
            "\u001b[?25l\r\u001b[K     |███▎                            | 10 kB 23.4 MB/s eta 0:00:01\r\u001b[K     |██████▌                         | 20 kB 30.9 MB/s eta 0:00:01\r\u001b[K     |█████████▊                      | 30 kB 22.6 MB/s eta 0:00:01\r\u001b[K     |█████████████                   | 40 kB 14.2 MB/s eta 0:00:01\r\u001b[K     |████████████████▎               | 51 kB 10.5 MB/s eta 0:00:01\r\u001b[K     |███████████████████▌            | 61 kB 11.9 MB/s eta 0:00:01\r\u001b[K     |██████████████████████▉         | 71 kB 13.3 MB/s eta 0:00:01\r\u001b[K     |██████████████████████████      | 81 kB 13.1 MB/s eta 0:00:01\r\u001b[K     |█████████████████████████████▎  | 92 kB 14.5 MB/s eta 0:00:01\r\u001b[K     |████████████████████████████████| 100 kB 6.4 MB/s \n",
            "\u001b[?25hCollecting platformdirs>=1.4.0\n",
            "  Downloading platformdirs-2.5.1-py3-none-any.whl (14 kB)\n",
            "Requirement already satisfied: pytz in /usr/local/lib/python3.7/dist-packages (from zeep) (2018.9)\n",
            "Requirement already satisfied: attrs>=17.2.0 in /usr/local/lib/python3.7/dist-packages (from zeep) (21.4.0)\n",
            "Requirement already satisfied: cached-property>=1.3.0 in /usr/local/lib/python3.7/dist-packages (from zeep) (1.5.2)\n",
            "Collecting isodate>=0.5.4\n",
            "  Downloading isodate-0.6.1-py2.py3-none-any.whl (41 kB)\n",
            "\u001b[K     |████████████████████████████████| 41 kB 425 kB/s \n",
            "\u001b[?25hCollecting requests-file>=1.5.1\n",
            "  Downloading requests_file-1.5.1-py2.py3-none-any.whl (3.7 kB)\n",
            "Requirement already satisfied: requests>=2.7.0 in /usr/local/lib/python3.7/dist-packages (from zeep) (2.23.0)\n",
            "Collecting requests-toolbelt>=0.7.1\n",
            "  Downloading requests_toolbelt-0.9.1-py2.py3-none-any.whl (54 kB)\n",
            "\u001b[K     |████████████████████████████████| 54 kB 2.0 MB/s \n",
            "\u001b[?25hCollecting lxml>=4.6.0\n",
            "  Downloading lxml-4.8.0-cp37-cp37m-manylinux_2_17_x86_64.manylinux2014_x86_64.manylinux_2_24_x86_64.whl (6.4 MB)\n",
            "\u001b[K     |████████████████████████████████| 6.4 MB 53.2 MB/s \n",
            "\u001b[?25hRequirement already satisfied: six in /usr/local/lib/python3.7/dist-packages (from isodate>=0.5.4->zeep) (1.15.0)\n",
            "Requirement already satisfied: certifi>=2017.4.17 in /usr/local/lib/python3.7/dist-packages (from requests>=2.7.0->zeep) (2021.10.8)\n",
            "Requirement already satisfied: chardet<4,>=3.0.2 in /usr/local/lib/python3.7/dist-packages (from requests>=2.7.0->zeep) (3.0.4)\n",
            "Requirement already satisfied: idna<3,>=2.5 in /usr/local/lib/python3.7/dist-packages (from requests>=2.7.0->zeep) (2.10)\n",
            "Requirement already satisfied: urllib3!=1.25.0,!=1.25.1,<1.26,>=1.21.1 in /usr/local/lib/python3.7/dist-packages (from requests>=2.7.0->zeep) (1.24.3)\n",
            "Installing collected packages: requests-toolbelt, requests-file, platformdirs, lxml, isodate, zeep\n",
            "  Attempting uninstall: lxml\n",
            "    Found existing installation: lxml 4.2.6\n",
            "    Uninstalling lxml-4.2.6:\n",
            "      Successfully uninstalled lxml-4.2.6\n",
            "Successfully installed isodate-0.6.1 lxml-4.8.0 platformdirs-2.5.1 requests-file-1.5.1 requests-toolbelt-0.9.1 zeep-4.1.0\n"
          ]
        },
        {
          "output_type": "display_data",
          "data": {
            "application/vnd.colab-display-data+json": {
              "pip_warning": {
                "packages": [
                  "lxml"
                ]
              }
            }
          },
          "metadata": {}
        }
      ]
    },
    {
      "cell_type": "code",
      "source": [
        "!pip install drms"
      ],
      "metadata": {
        "colab": {
          "base_uri": "https://localhost:8080/"
        },
        "id": "6COvtQjy6gNP",
        "outputId": "df17e89e-3041-466a-9cf3-71bf5c937b5c"
      },
      "execution_count": null,
      "outputs": [
        {
          "output_type": "stream",
          "name": "stdout",
          "text": [
            "Collecting drms\n",
            "  Downloading drms-0.6.2-py3-none-any.whl (35 kB)\n",
            "Requirement already satisfied: numpy in /usr/local/lib/python3.7/dist-packages (from drms) (1.21.5)\n",
            "Requirement already satisfied: pandas in /usr/local/lib/python3.7/dist-packages (from drms) (1.3.5)\n",
            "Requirement already satisfied: python-dateutil>=2.7.3 in /usr/local/lib/python3.7/dist-packages (from pandas->drms) (2.8.2)\n",
            "Requirement already satisfied: pytz>=2017.3 in /usr/local/lib/python3.7/dist-packages (from pandas->drms) (2018.9)\n",
            "Requirement already satisfied: six>=1.5 in /usr/local/lib/python3.7/dist-packages (from python-dateutil>=2.7.3->pandas->drms) (1.15.0)\n",
            "Installing collected packages: drms\n",
            "Successfully installed drms-0.6.2\n"
          ]
        }
      ]
    },
    {
      "cell_type": "code",
      "source": [
        "from sunpy.net import Fido, attrs as a"
      ],
      "metadata": {
        "id": "Yc3FShHT6RRh"
      },
      "execution_count": null,
      "outputs": []
    },
    {
      "cell_type": "code",
      "source": [
        "a.Time('2012/3/4', '2012/3/6'), a.Instrument.lyra"
      ],
      "metadata": {
        "colab": {
          "base_uri": "https://localhost:8080/"
        },
        "id": "r3BYEmvr6tlf",
        "outputId": "32c60a16-a930-4f7a-8116-41ddf88d80b4"
      },
      "execution_count": null,
      "outputs": [
        {
          "output_type": "execute_result",
          "data": {
            "text/plain": [
              "(<sunpy.net.attrs.Time(2012-03-04 00:00:00.000, 2012-03-06 00:00:00.000)>,\n",
              " <sunpy.net.attrs.Instrument(LYRA: Lyman Alpha Radiometer is the solar UV radiometer on board\n",
              " Proba-2.) object at 0x7f937009e490>)"
            ]
          },
          "metadata": {},
          "execution_count": 4
        }
      ]
    },
    {
      "cell_type": "code",
      "source": [
        "print(a.Instrument)"
      ],
      "metadata": {
        "colab": {
          "base_uri": "https://localhost:8080/"
        },
        "id": "gsdCgggJ6xkn",
        "outputId": "d5c7238d-8fe9-4e0c-afb8-6252ca81cac8"
      },
      "execution_count": null,
      "outputs": [
        {
          "output_type": "stream",
          "name": "stdout",
          "text": [
            "sunpy.net.attrs.Instrument\n",
            "\n",
            "Specifies the Instrument name for the search.\n",
            "\n",
            "       Attribute Name       ...\n",
            "--------------------------- ...\n",
            "aia                         ...\n",
            "bcs                         ...\n",
            "be_continuum                ...\n",
            "be_halpha                   ...\n",
            "bigbear                     ...\n",
            "caii                        ...\n",
            "cds                         ...\n",
            "celias                      ...\n",
            "cerrotololo                 ...\n",
            "chrotel                     ...\n",
            "climso                      ...\n",
            "cooke                       ...\n",
            "costep                      ...\n",
            "cp                          ...\n",
            "eis                         ...\n",
            "eit                         ...\n",
            "elteide                     ...\n",
            "erne                        ...\n",
            "eui                         ...\n",
            "eve                         ...\n",
            "eve                         ...\n",
            "film                        ...\n",
            "five_12_channelmagnetograph ...\n",
            "foxsi                       ...\n",
            "gbm                         ...\n",
            "goes                        ...\n",
            "golf                        ...\n",
            "gong                        ...\n",
            "ha2                         ...\n",
            "hi_c                        ...\n",
            "hi_c21                      ...\n",
            "hmi                         ...\n",
            "hxeclipse                   ...\n",
            "hxt                         ...\n",
            "impact                      ...\n",
            "iris                        ...\n",
            "isoon                       ...\n",
            "iss                         ...\n",
            "ivm                         ...\n",
            "kpdc                        ...\n",
            "lasco                       ...\n",
            "learmonth                   ...\n",
            "longwave_lobe_06            ...\n",
            "longwave_lobe_07            ...\n",
            "longwave_slit_06            ...\n",
            "longwave_slit_07            ...\n",
            "lyra                        ...\n",
            "maunaloa                    ...\n",
            "mdi                         ...\n",
            "mees                        ...\n",
            "mergedgong                  ...\n",
            "meudonspectroheliograph     ...\n",
            "noaa_indices                ...\n",
            "noaa_predict                ...\n",
            "norh                        ...\n",
            "phoenix                     ...\n",
            "phoka                       ...\n",
            "plastic                     ...\n",
            "ptmc                        ...\n",
            "rhessi                      ...\n",
            "rhessi                      ...\n",
            "secchi                      ...\n",
            "shortwave_lobe_06           ...\n",
            "shortwave_lobe_07           ...\n",
            "shortwave_slit_06           ...\n",
            "shortwave_slit_07           ...\n",
            "six_0_ftshg                 ...\n",
            "sj                          ...\n",
            "solarftsspectrometer        ...\n",
            "soon                        ...\n",
            "sot                         ...\n",
            "sp1                         ...\n",
            "sp2                         ...\n",
            "spectroheliograph           ...\n",
            "spectromagnetograph         ...\n",
            "srs_table                   ...\n",
            "sumer                       ...\n",
            "suvi                        ...\n",
            "suvi                        ...\n",
            "swan                        ...\n",
            "swap                        ...\n",
            "swaves                      ...\n",
            "sxt                         ...\n",
            "tm_1001                     ...\n",
            "tm_1010                     ...\n",
            "trace                       ...\n",
            "udaipur                     ...\n",
            "uvcs                        ...\n",
            "vault_1999                  ...\n",
            "vault_2002                  ...\n",
            "vault_2014                  ...\n",
            "virgo                       ...\n",
            "vsm                         ...\n",
            "wbs                         ...\n",
            "wispr                       ...\n",
            "x123                        ...\n",
            "xrs                         ...\n"
          ]
        }
      ]
    },
    {
      "cell_type": "code",
      "source": [
        "print(a.jsoc.Series)"
      ],
      "metadata": {
        "colab": {
          "base_uri": "https://localhost:8080/"
        },
        "id": "YFx6RE2S6_Qh",
        "outputId": "93d31771-ea5e-4470-8ab0-b5b58301f48c"
      },
      "execution_count": null,
      "outputs": [
        {
          "output_type": "stream",
          "name": "stdout",
          "text": [
            "sunpy.net.jsoc.attrs.Series\n",
            "\n",
            "The JSOC Series to Download.\n",
            "\n",
            "          Attribute Name           ...\n",
            "---------------------------------- ...\n",
            "aia_flatfield                      ...\n",
            "aia_lev1                           ...\n",
            "aia_lev1_euv_12s                   ...\n",
            "aia_lev1_uv_24s                    ...\n",
            "aia_lev1_vis_1h                    ...\n",
            "aia_master_pointing3h              ...\n",
            "aia_response                       ...\n",
            "aia_temperature_summary_300s       ...\n",
            "hmi_b_135s                         ...\n",
            "hmi_b_5760s                        ...\n",
            "hmi_b_720s                         ...\n",
            "hmi_b_720s_dcon                    ...\n",
            "hmi_b_720s_dcons                   ...\n",
            "hmi_b_720s_e15w1332_cea            ...\n",
            "hmi_b_720s_e15w1332_cutout         ...\n",
            "hmi_b_90s                          ...\n",
            "hmi_b_synoptic                     ...\n",
            "hmi_b_synoptic_small               ...\n",
            "hmi_bharp_720s                     ...\n",
            "hmi_bharp_720s_nrt                 ...\n",
            "hmi_bmap_lowres_latlon_720s        ...\n",
            "hmi_c_avg120                       ...\n",
            "hmi_coefficients                   ...\n",
            "hmi_eigenfunctions                 ...\n",
            "hmi_flatfield                      ...\n",
            "hmi_fsi_phase_lon_lat              ...\n",
            "hmi_fsi_phase_lon_lat_5d           ...\n",
            "hmi_fsvbinned_nrt                  ...\n",
            "hmi_gcvbinned_nrt                  ...\n",
            "hmi_hskernels                      ...\n",
            "hmi_ic_45s                         ...\n",
            "hmi_ic_45s_dcon                    ...\n",
            "hmi_ic_720s                        ...\n",
            "hmi_ic_720s_dcon                   ...\n",
            "hmi_ic_720s_dcons                  ...\n",
            "hmi_ic_nolimbdark_720s             ...\n",
            "hmi_ic_nolimbdark_720s_nrt         ...\n",
            "hmi_ld_45s                         ...\n",
            "hmi_ld_45s_dcon                    ...\n",
            "hmi_ld_720s                        ...\n",
            "hmi_ld_720s_dcon                   ...\n",
            "hmi_ld_720s_dcons                  ...\n",
            "hmi_leakage                        ...\n",
            "hmi_lev1_cal                       ...\n",
            "hmi_lev1_dcon                      ...\n",
            "hmi_lookup_chebycoef_bnoise        ...\n",
            "hmi_lookup_corrected_expanded      ...\n",
            "hmi_lookup_expanded                ...\n",
            "hmi_lw_45s                         ...\n",
            "hmi_lw_45s_dcon                    ...\n",
            "hmi_lw_720s                        ...\n",
            "hmi_lw_720s_dcon                   ...\n",
            "hmi_lw_720s_dcons                  ...\n",
            "hmi_m_45s                          ...\n",
            "hmi_m_45s_dcon                     ...\n",
            "hmi_m_720s                         ...\n",
            "hmi_m_720s_dcon                    ...\n",
            "hmi_m_720s_dcons                   ...\n",
            "hmi_m_720s_mod                     ...\n",
            "hmi_m_720s_nrt                     ...\n",
            "hmi_marmask_720s                   ...\n",
            "hmi_marmask_720s_nrt               ...\n",
            "hmi_me_135s                        ...\n",
            "hmi_me_5760s                       ...\n",
            "hmi_me_720s_e15w1332               ...\n",
            "hmi_me_720s_e15w1332_harp          ...\n",
            "hmi_me_720s_fd10                   ...\n",
            "hmi_me_720s_fd10_dcon              ...\n",
            "hmi_me_720s_fd10_harp              ...\n",
            "hmi_me_720s_fd10_harp_nrt          ...\n",
            "hmi_me_720s_fd10_nrt               ...\n",
            "hmi_me_90s                         ...\n",
            "hmi_meanpf_720s                    ...\n",
            "hmi_meharp_720s                    ...\n",
            "hmi_meharp_720s_nrt                ...\n",
            "hmi_mharp_720s                     ...\n",
            "hmi_mharp_720s_nrt                 ...\n",
            "hmi_mhdcorona                      ...\n",
            "hmi_mhdcorona_daily                ...\n",
            "hmi_mhdcorona_daily_nrt            ...\n",
            "hmi_mldailysynframe_720s           ...\n",
            "hmi_mldailysynframe_720s_nrt       ...\n",
            "hmi_mldailysynframe_small_720s     ...\n",
            "hmi_mldailysynframe_small_720s_nrt ...\n",
            "hmi_mlsynop_small_720s             ...\n",
            "hmi_mrdailysynframe_720s           ...\n",
            "hmi_mrdailysynframe_720s_nrt       ...\n",
            "hmi_mrdailysynframe_polfil_720s    ...\n",
            "hmi_mrdailysynframe_small_720s     ...\n",
            "hmi_mrdailysynframe_small_720s_nrt ...\n",
            "hmi_mrmap_latlon_720s              ...\n",
            "hmi_mrmap_latlon_720s_nrt          ...\n",
            "hmi_mrmap_lowres_latlon_720s       ...\n",
            "hmi_mrsynop_small_720s             ...\n",
            "hmi_offpoint_flatfield             ...\n",
            "hmi_pfss_synframe                  ...\n",
            "hmi_pfss_synop                     ...\n",
            "hmi_polar_db                       ...\n",
            "hmi_q_synframe                     ...\n",
            "hmi_q_synop                        ...\n",
            "hmi_rdmai_fd05                     ...\n",
            "hmi_rdmai_fd15                     ...\n",
            "hmi_rdmai_fd30                     ...\n",
            "hmi_rdvavgpspec_fd15               ...\n",
            "hmi_rdvavgpspec_fd30               ...\n",
            "hmi_rdvfitsc_fd05                  ...\n",
            "hmi_rdvfitsc_fd15                  ...\n",
            "hmi_rdvfitsc_fd30                  ...\n",
            "hmi_rdvfitsf_fd05                  ...\n",
            "hmi_rdvfitsf_fd15                  ...\n",
            "hmi_rdvfitsf_fd30                  ...\n",
            "hmi_rdvflows_fd15_frame            ...\n",
            "hmi_rdvflows_fd30_frame            ...\n",
            "hmi_rdvpspec_fd05                  ...\n",
            "hmi_rdvpspec_fd15                  ...\n",
            "hmi_rdvpspec_fd30                  ...\n",
            "hmi_rdvtrack_fd05                  ...\n",
            "hmi_rdvtrack_fd15                  ...\n",
            "hmi_rdvtrack_fd30                  ...\n",
            "hmi_s_135s                         ...\n",
            "hmi_s_5760s                        ...\n",
            "hmi_s_720s                         ...\n",
            "hmi_s_720s_dcon                    ...\n",
            "hmi_s_720s_dcons                   ...\n",
            "hmi_s_90s                          ...\n",
            "hmi_sharp_720s                     ...\n",
            "hmi_sharp_720s_nrt                 ...\n",
            "hmi_sharp_cea_720s                 ...\n",
            "hmi_sharp_cea_720s_nrt             ...\n",
            "hmi_synoptic_ml_720s               ...\n",
            "hmi_synoptic_ml_720s_nrt           ...\n",
            "hmi_synoptic_ml_small_720s_nrt     ...\n",
            "hmi_synoptic_mr_720s               ...\n",
            "hmi_synoptic_mr_720s_nrt           ...\n",
            "hmi_synoptic_mr_polfil_720s        ...\n",
            "hmi_synoptic_mr_small_720s_nrt     ...\n",
            "hmi_td_fsi_12h                     ...\n",
            "hmi_tdkernels                      ...\n",
            "hmi_tdpixlist                      ...\n",
            "hmi_tdvinvrt_synophc               ...\n",
            "hmi_tdvtimes_synophc               ...\n",
            "hmi_tdvtrack_synophc               ...\n",
            "hmi_temperature_summary_300s       ...\n",
            "hmi_v_45s                          ...\n",
            "hmi_v_45s_dcon                     ...\n",
            "hmi_v_720s                         ...\n",
            "hmi_v_720s_dcon                    ...\n",
            "hmi_v_720s_dcons                   ...\n",
            "hmi_v_avg120                       ...\n",
            "hmi_v_sht_2drls                    ...\n",
            "hmi_v_sht_2drls_asym               ...\n",
            "hmi_v_sht_72d                      ...\n",
            "hmi_v_sht_gaps_72d                 ...\n",
            "hmi_v_sht_gf_72d                   ...\n",
            "hmi_v_sht_gf_gaps_72d              ...\n",
            "hmi_v_sht_gf_gaps_retile           ...\n",
            "hmi_v_sht_gf_retile                ...\n",
            "hmi_v_sht_modes                    ...\n",
            "hmi_v_sht_modes_archive            ...\n",
            "hmi_v_sht_modes_asym               ...\n",
            "hmi_v_sht_modes_asym_archive       ...\n",
            "hmi_v_sht_pow                      ...\n",
            "hmi_v_sht_secs_72d                 ...\n",
            "hmi_vw_v_45s                       ...\n",
            "hmi_vw_v_sht_2drls                 ...\n",
            "hmi_vw_v_sht_72d                   ...\n",
            "hmi_vw_v_sht_gaps_72d              ...\n",
            "hmi_vw_v_sht_gf_72d                ...\n",
            "hmi_vw_v_sht_gf_gaps_72d           ...\n",
            "hmi_vw_v_sht_modes                 ...\n",
            "hmi_vw_v_sht_modes_archive         ...\n",
            "hmi_vw_v_sht_pow                   ...\n",
            "mdi_caltables_doppler              ...\n",
            "mdi_caltables_doppler_orig         ...\n",
            "mdi_caltables_intensity            ...\n",
            "mdi_detune                         ...\n",
            "mdi_eigenfunctions                 ...\n",
            "mdi_fd_i0                          ...\n",
            "mdi_fd_i0_extract                  ...\n",
            "mdi_fd_ic                          ...\n",
            "mdi_fd_ic_06h                      ...\n",
            "mdi_fd_ic_interp                   ...\n",
            "mdi_fd_ld                          ...\n",
            "mdi_fd_m_96m_lev182                ...\n",
            "mdi_fd_m_extract                   ...\n",
            "mdi_fd_m_lev182                    ...\n",
            "mdi_fd_marmask                     ...\n",
            "mdi_fd_spotmask                    ...\n",
            "mdi_fd_v                           ...\n",
            "mdi_fd_v_bin2x2                    ...\n",
            "mdi_fd_v_extract                   ...\n",
            "mdi_fd_v_sht                       ...\n",
            "mdi_fd_v_sht_2drls                 ...\n",
            "mdi_fd_v_sht_2drls_asym            ...\n",
            "mdi_fd_v_sht_gaps                  ...\n",
            "mdi_fd_v_sht_gf                    ...\n",
            "mdi_fd_v_sht_gf_gaps               ...\n",
            "mdi_fd_v_sht_modes                 ...\n",
            "mdi_fd_v_sht_modes_archive         ...\n",
            "mdi_fd_v_sht_modes_asym            ...\n",
            "mdi_fd_v_sht_modes_asym_archive    ...\n",
            "mdi_fd_v_sht_pow                   ...\n",
            "mdi_fd_v_sht_secs                  ...\n",
            "mdi_fdv_avg120                     ...\n",
            "mdi_focus                          ...\n",
            "mdi_hr_i0                          ...\n",
            "mdi_hr_ic                          ...\n",
            "mdi_hr_ld                          ...\n",
            "mdi_hr_ld_bin2x2                   ...\n",
            "mdi_hr_m                           ...\n",
            "mdi_hr_m_bin2x2                    ...\n",
            "mdi_hr_v                           ...\n",
            "mdi_hr_v_12s                       ...\n",
            "mdi_hr_v_bin2x2                    ...\n",
            "mdi_ice                            ...\n",
            "mdi_leakage                        ...\n",
            "mdi_limb_figure                    ...\n",
            "mdi_lostarp_96m                    ...\n",
            "mdi_meanpf_96m                     ...\n",
            "mdi_mtarp                          ...\n",
            "mdi_pfss_synop                     ...\n",
            "mdi_polar_db                       ...\n",
            "mdi_q_synop                        ...\n",
            "mdi_rdvfitsc_dp                    ...\n",
            "mdi_rdvfitsf_dp                    ...\n",
            "mdi_rdvflows_dp                    ...\n",
            "mdi_rdvpspec_dp                    ...\n",
            "mdi_rdvtrack_dp                    ...\n",
            "mdi_roll_table                     ...\n",
            "mdi_rwbin_ic                       ...\n",
            "mdi_rwbin_ld                       ...\n",
            "mdi_scale_corrections              ...\n",
            "mdi_sinrho_table                   ...\n",
            "mdi_smarp_96m                      ...\n",
            "mdi_smarp_cea_96m                  ...\n",
            "mdi_synoptic_ml_96m                ...\n",
            "mdi_synoptic_ml_small_96m          ...\n",
            "mdi_synoptic_mr_96m                ...\n",
            "mdi_synoptic_mr_polfil_96m         ...\n",
            "mdi_synoptic_mr_small_96m          ...\n",
            "mdi_vw_v                           ...\n",
            "mdi_vw_v_sht_2drls                 ...\n",
            "mdi_vw_v_sht_2drls_asym            ...\n",
            "mdi_vw_v_sht_72d                   ...\n",
            "mdi_vw_v_sht_gaps_72d              ...\n",
            "mdi_vw_v_sht_gf_72d                ...\n",
            "mdi_vw_v_sht_gf_gaps_72d           ...\n",
            "mdi_vw_v_sht_gf_gaps_retile        ...\n",
            "mdi_vw_v_sht_gf_retile             ...\n",
            "mdi_vw_v_sht_modes                 ...\n",
            "mdi_vw_v_sht_modes_archive         ...\n",
            "mdi_vw_v_sht_modes_asym            ...\n",
            "mdi_vw_v_sht_modes_asym_archive    ...\n",
            "mdi_vw_v_sht_pow                   ...\n",
            "mdi_vw_v_sht_secs_72d              ...\n"
          ]
        }
      ]
    },
    {
      "cell_type": "code",
      "source": [
        "result = Fido.search(a.Time('2012/3/4', '2012/3/6'), a.Instrument.lyra, a.Level.two) "
      ],
      "metadata": {
        "colab": {
          "base_uri": "https://localhost:8080/"
        },
        "id": "tDZwiE5r7LVB",
        "outputId": "95b84192-dfad-49b3-ef77-e918792ad608"
      },
      "execution_count": null,
      "outputs": [
        {
          "output_type": "stream",
          "name": "stderr",
          "text": [
            "/usr/local/lib/python3.7/dist-packages/astropy/table/table.py:3409: FutureWarning: elementwise == comparison failed and returning scalar instead; this will raise an error or perform elementwise comparison in the future.\n",
            "  result = self.as_array() == other\n"
          ]
        }
      ]
    },
    {
      "cell_type": "code",
      "source": [
        "result"
      ],
      "metadata": {
        "colab": {
          "base_uri": "https://localhost:8080/",
          "height": 213
        },
        "id": "W_BPqXyh7Nyg",
        "outputId": "8b3fc71d-2256-4725-8569-893cbad3b91b"
      },
      "execution_count": null,
      "outputs": [
        {
          "output_type": "execute_result",
          "data": {
            "text/plain": [
              "<sunpy.net.fido_factory.UnifiedResponse object at 0x7f936fb39e90>\n",
              "Results from 1 Provider:\n",
              "\n",
              "3 Results from the LYRAClient:\n",
              "Source: http://proba2.oma.be/lyra/data/bsd\n",
              "\n",
              "       Start Time               End Time        Instrument ... Provider Level\n",
              "----------------------- ----------------------- ---------- ... -------- -----\n",
              "2012-03-04 00:00:00.000 2012-03-04 23:59:59.999       LYRA ...      ESA     2\n",
              "2012-03-05 00:00:00.000 2012-03-05 23:59:59.999       LYRA ...      ESA     2\n",
              "2012-03-06 00:00:00.000 2012-03-06 23:59:59.999       LYRA ...      ESA     2\n"
            ],
            "text/html": [
              "Results from 1 Provider:</br></br>3 Results from the LYRAClient:</br><div><i>QueryResponse length=3</i>\n",
              "<table id=\"table140271211156688\" class=\"table-striped table-bordered table-condensed\">\n",
              "<thead><tr><th>Start Time</th><th>End Time</th><th>Instrument</th><th>Physobs</th><th>Source</th><th>Provider</th><th>Level</th></tr></thead>\n",
              "<thead><tr><th>object</th><th>object</th><th>str4</th><th>str10</th><th>str6</th><th>str3</th><th>int64</th></tr></thead>\n",
              "<tr><td>2012-03-04 00:00:00.000</td><td>2012-03-04 23:59:59.999</td><td>LYRA</td><td>irradiance</td><td>PROBA2</td><td>ESA</td><td>2</td></tr>\n",
              "<tr><td>2012-03-05 00:00:00.000</td><td>2012-03-05 23:59:59.999</td><td>LYRA</td><td>irradiance</td><td>PROBA2</td><td>ESA</td><td>2</td></tr>\n",
              "<tr><td>2012-03-06 00:00:00.000</td><td>2012-03-06 23:59:59.999</td><td>LYRA</td><td>irradiance</td><td>PROBA2</td><td>ESA</td><td>2</td></tr>\n",
              "</table></div></br>"
            ]
          },
          "metadata": {},
          "execution_count": 8
        }
      ]
    },
    {
      "cell_type": "code",
      "source": [
        "!pip install astropy"
      ],
      "metadata": {
        "colab": {
          "base_uri": "https://localhost:8080/"
        },
        "id": "zqFcUT2V7aZA",
        "outputId": "65537270-9596-4c7a-f402-86e05145f432"
      },
      "execution_count": null,
      "outputs": [
        {
          "output_type": "stream",
          "name": "stdout",
          "text": [
            "Requirement already satisfied: astropy in /usr/local/lib/python3.7/dist-packages (4.3.1)\n",
            "Requirement already satisfied: importlib-metadata in /usr/local/lib/python3.7/dist-packages (from astropy) (4.11.3)\n",
            "Requirement already satisfied: numpy>=1.17 in /usr/local/lib/python3.7/dist-packages (from astropy) (1.21.5)\n",
            "Requirement already satisfied: pyerfa>=1.7.3 in /usr/local/lib/python3.7/dist-packages (from astropy) (2.0.0.1)\n",
            "Requirement already satisfied: typing-extensions>=3.6.4 in /usr/local/lib/python3.7/dist-packages (from importlib-metadata->astropy) (3.10.0.2)\n",
            "Requirement already satisfied: zipp>=0.5 in /usr/local/lib/python3.7/dist-packages (from importlib-metadata->astropy) (3.7.0)\n"
          ]
        }
      ]
    },
    {
      "cell_type": "code",
      "source": [
        "import astropy.units as u\n",
        "Fido.search(a.Time('2012/3/4', '2012/3/6'), a.Instrument.norh,\n",
        "            a.Wavelength(17*u.GHz))  "
      ],
      "metadata": {
        "colab": {
          "base_uri": "https://localhost:8080/",
          "height": 289
        },
        "id": "CXqIVRg87Y3a",
        "outputId": "46805b6e-0b1d-4b98-b31c-bc437383190b"
      },
      "execution_count": null,
      "outputs": [
        {
          "output_type": "stream",
          "name": "stderr",
          "text": [
            "/usr/local/lib/python3.7/dist-packages/astropy/table/table.py:3409: FutureWarning: elementwise == comparison failed and returning scalar instead; this will raise an error or perform elementwise comparison in the future.\n",
            "  result = self.as_array() == other\n"
          ]
        },
        {
          "output_type": "execute_result",
          "data": {
            "text/plain": [
              "<sunpy.net.fido_factory.UnifiedResponse object at 0x7f936f84bf50>\n",
              "Results from 1 Provider:\n",
              "\n",
              "3 Results from the NoRHClient:\n",
              "Source: https://solar.nro.nao.ac.jp/norh/doc/manuale/node1.html\n",
              "\n",
              "       Start Time               End Time        ... Provider Wavelength\n",
              "                                                ...             GHz    \n",
              "----------------------- ----------------------- ... -------- ----------\n",
              "2012-03-04 00:00:00.000 2012-03-04 23:59:59.999 ...      NRO       17.0\n",
              "2012-03-05 00:00:00.000 2012-03-05 23:59:59.999 ...      NRO       17.0\n",
              "2012-03-06 00:00:00.000 2012-03-06 23:59:59.999 ...      NRO       17.0\n"
            ],
            "text/html": [
              "Results from 1 Provider:</br></br>3 Results from the NoRHClient:</br><div><i>QueryResponse length=3</i>\n",
              "<table id=\"table140271207429328\" class=\"table-striped table-bordered table-condensed\">\n",
              "<thead><tr><th>Start Time</th><th>End Time</th><th>Instrument</th><th>Source</th><th>Provider</th><th>Wavelength</th></tr></thead>\n",
              "<thead><tr><th></th><th></th><th></th><th></th><th></th><th>GHz</th></tr></thead>\n",
              "<thead><tr><th>object</th><th>object</th><th>str4</th><th>str4</th><th>str3</th><th>float64</th></tr></thead>\n",
              "<tr><td>2012-03-04 00:00:00.000</td><td>2012-03-04 23:59:59.999</td><td>NORH</td><td>NAOJ</td><td>NRO</td><td>17.0</td></tr>\n",
              "<tr><td>2012-03-05 00:00:00.000</td><td>2012-03-05 23:59:59.999</td><td>NORH</td><td>NAOJ</td><td>NRO</td><td>17.0</td></tr>\n",
              "<tr><td>2012-03-06 00:00:00.000</td><td>2012-03-06 23:59:59.999</td><td>NORH</td><td>NAOJ</td><td>NRO</td><td>17.0</td></tr>\n",
              "</table></div></br>"
            ]
          },
          "metadata": {},
          "execution_count": 10
        }
      ]
    },
    {
      "cell_type": "code",
      "source": [
        "Fido.search(a.Time('2012/3/4', '2012/3/6'), a.Instrument.aia,\n",
        "            a.Wavelength(171*u.angstrom), a.Sample(10*u.minute)) "
      ],
      "metadata": {
        "colab": {
          "base_uri": "https://localhost:8080/",
          "height": 944
        },
        "id": "s27B5Cdf7m0g",
        "outputId": "be21243b-6bde-4a86-f924-98bd85713cc9"
      },
      "execution_count": null,
      "outputs": [
        {
          "output_type": "execute_result",
          "data": {
            "text/plain": [
              "<sunpy.net.fido_factory.UnifiedResponse object at 0x7f936f7dbd10>\n",
              "Results from 1 Provider:\n",
              "\n",
              "289 Results from the VSOClient:\n",
              "Source: http://vso.stanford.edu/cgi-bin/search\n",
              "\n",
              "       Start Time       ...\n",
              "                        ...\n",
              "----------------------- ...\n",
              "2012-03-04 00:00:00.000 ...\n",
              "2012-03-04 00:10:00.000 ...\n",
              "2012-03-04 00:20:00.000 ...\n",
              "2012-03-04 00:30:00.000 ...\n",
              "2012-03-04 00:40:00.000 ...\n",
              "2012-03-04 00:50:00.000 ...\n",
              "2012-03-04 01:00:00.000 ...\n",
              "2012-03-04 01:10:00.000 ...\n",
              "2012-03-04 01:20:00.000 ...\n",
              "2012-03-04 01:30:00.000 ...\n",
              "                    ... ...\n",
              "2012-03-05 22:30:00.000 ...\n",
              "2012-03-05 22:40:00.000 ...\n",
              "2012-03-05 22:50:00.000 ...\n",
              "2012-03-05 23:00:00.000 ...\n",
              "2012-03-05 23:10:00.000 ...\n",
              "2012-03-05 23:20:00.000 ...\n",
              "2012-03-05 23:30:00.000 ...\n",
              "2012-03-05 23:40:00.000 ...\n",
              "2012-03-05 23:50:00.000 ...\n",
              "2012-03-06 00:00:00.000 ...\n",
              "Length = 289 rows\n"
            ],
            "text/html": [
              "Results from 1 Provider:</br></br>289 Results from the VSOClient:</br><div><i>VSOQueryResponseTable length=289</i>\n",
              "<table id=\"table140271216453136\" class=\"table-striped table-bordered table-condensed\">\n",
              "<thead><tr><th>Start Time</th><th>End Time</th><th>Source</th><th>Instrument</th><th>Wavelength [2]</th><th>Provider</th><th>Physobs</th><th>Wavetype</th><th>Extent Width</th><th>Extent Length</th><th>Extent Type</th><th>Size</th><th>Info</th></tr></thead>\n",
              "<thead><tr><th></th><th></th><th></th><th></th><th>Angstrom</th><th></th><th></th><th></th><th></th><th></th><th></th><th>Mibyte</th><th></th></tr></thead>\n",
              "<thead><tr><th>object</th><th>object</th><th>str3</th><th>str3</th><th>float64</th><th>str4</th><th>str9</th><th>str6</th><th>str4</th><th>str4</th><th>str8</th><th>float64</th><th>str64</th></tr></thead>\n",
              "<tr><td>2012-03-04 00:00:00.000</td><td>2012-03-04 00:00:01.000</td><td>SDO</td><td>AIA</td><td>171.0 .. 171.0</td><td>JSOC</td><td>intensity</td><td>NARROW</td><td>4096</td><td>4096</td><td>FULLDISK</td><td>64.64844</td><td>AIA level 1, 4096x4096 [1.999 exposure] [100.00 percentd]</td></tr>\n",
              "<tr><td>2012-03-04 00:10:00.000</td><td>2012-03-04 00:10:01.000</td><td>SDO</td><td>AIA</td><td>171.0 .. 171.0</td><td>JSOC</td><td>intensity</td><td>NARROW</td><td>4096</td><td>4096</td><td>FULLDISK</td><td>64.64844</td><td>AIA level 1, 4096x4096 [1.999 exposure] [100.00 percentd]</td></tr>\n",
              "<tr><td>2012-03-04 00:20:00.000</td><td>2012-03-04 00:20:01.000</td><td>SDO</td><td>AIA</td><td>171.0 .. 171.0</td><td>JSOC</td><td>intensity</td><td>NARROW</td><td>4096</td><td>4096</td><td>FULLDISK</td><td>64.64844</td><td>AIA level 1, 4096x4096 [1.999 exposure] [100.00 percentd]</td></tr>\n",
              "<tr><td>2012-03-04 00:30:00.000</td><td>2012-03-04 00:30:01.000</td><td>SDO</td><td>AIA</td><td>171.0 .. 171.0</td><td>JSOC</td><td>intensity</td><td>NARROW</td><td>4096</td><td>4096</td><td>FULLDISK</td><td>64.64844</td><td>AIA level 1, 4096x4096 [1.999 exposure] [100.00 percentd]</td></tr>\n",
              "<tr><td>2012-03-04 00:40:00.000</td><td>2012-03-04 00:40:01.000</td><td>SDO</td><td>AIA</td><td>171.0 .. 171.0</td><td>JSOC</td><td>intensity</td><td>NARROW</td><td>4096</td><td>4096</td><td>FULLDISK</td><td>64.64844</td><td>AIA level 1, 4096x4096 [1.999 exposure] [100.00 percentd]</td></tr>\n",
              "<tr><td>2012-03-04 00:50:00.000</td><td>2012-03-04 00:50:01.000</td><td>SDO</td><td>AIA</td><td>171.0 .. 171.0</td><td>JSOC</td><td>intensity</td><td>NARROW</td><td>4096</td><td>4096</td><td>FULLDISK</td><td>64.64844</td><td>AIA level 1, 4096x4096 [1.999 exposure] [100.00 percentd]</td></tr>\n",
              "<tr><td>2012-03-04 01:00:00.000</td><td>2012-03-04 01:00:01.000</td><td>SDO</td><td>AIA</td><td>171.0 .. 171.0</td><td>JSOC</td><td>intensity</td><td>NARROW</td><td>4096</td><td>4096</td><td>FULLDISK</td><td>64.64844</td><td>AIA level 1, 4096x4096 [1.999 exposure] [100.00 percentd]</td></tr>\n",
              "<tr><td>2012-03-04 01:10:00.000</td><td>2012-03-04 01:10:01.000</td><td>SDO</td><td>AIA</td><td>171.0 .. 171.0</td><td>JSOC</td><td>intensity</td><td>NARROW</td><td>4096</td><td>4096</td><td>FULLDISK</td><td>64.64844</td><td>AIA level 1, 4096x4096 [1.999 exposure] [100.00 percentd]</td></tr>\n",
              "<tr><td>2012-03-04 01:20:00.000</td><td>2012-03-04 01:20:01.000</td><td>SDO</td><td>AIA</td><td>171.0 .. 171.0</td><td>JSOC</td><td>intensity</td><td>NARROW</td><td>4096</td><td>4096</td><td>FULLDISK</td><td>64.64844</td><td>AIA level 1, 4096x4096 [1.999 exposure] [100.00 percentd]</td></tr>\n",
              "<tr><td>...</td><td>...</td><td>...</td><td>...</td><td>...</td><td>...</td><td>...</td><td>...</td><td>...</td><td>...</td><td>...</td><td>...</td><td>...</td></tr>\n",
              "<tr><td>2012-03-05 22:30:00.000</td><td>2012-03-05 22:30:01.000</td><td>SDO</td><td>AIA</td><td>171.0 .. 171.0</td><td>JSOC</td><td>intensity</td><td>NARROW</td><td>4096</td><td>4096</td><td>FULLDISK</td><td>64.64844</td><td>AIA level 1, 4096x4096 [1.999 exposure] [100.00 percentd]</td></tr>\n",
              "<tr><td>2012-03-05 22:40:00.000</td><td>2012-03-05 22:40:01.000</td><td>SDO</td><td>AIA</td><td>171.0 .. 171.0</td><td>JSOC</td><td>intensity</td><td>NARROW</td><td>4096</td><td>4096</td><td>FULLDISK</td><td>64.64844</td><td>AIA level 1, 4096x4096 [1.999 exposure] [100.00 percentd]</td></tr>\n",
              "<tr><td>2012-03-05 22:50:00.000</td><td>2012-03-05 22:50:01.000</td><td>SDO</td><td>AIA</td><td>171.0 .. 171.0</td><td>JSOC</td><td>intensity</td><td>NARROW</td><td>4096</td><td>4096</td><td>FULLDISK</td><td>64.64844</td><td>AIA level 1, 4096x4096 [1.999 exposure] [100.00 percentd]</td></tr>\n",
              "<tr><td>2012-03-05 23:00:00.000</td><td>2012-03-05 23:00:01.000</td><td>SDO</td><td>AIA</td><td>171.0 .. 171.0</td><td>JSOC</td><td>intensity</td><td>NARROW</td><td>4096</td><td>4096</td><td>FULLDISK</td><td>64.64844</td><td>AIA level 1, 4096x4096 [1.999 exposure] [100.00 percentd]</td></tr>\n",
              "<tr><td>2012-03-05 23:10:00.000</td><td>2012-03-05 23:10:01.000</td><td>SDO</td><td>AIA</td><td>171.0 .. 171.0</td><td>JSOC</td><td>intensity</td><td>NARROW</td><td>4096</td><td>4096</td><td>FULLDISK</td><td>64.64844</td><td>AIA level 1, 4096x4096 [1.999 exposure] [100.00 percentd]</td></tr>\n",
              "<tr><td>2012-03-05 23:20:00.000</td><td>2012-03-05 23:20:01.000</td><td>SDO</td><td>AIA</td><td>171.0 .. 171.0</td><td>JSOC</td><td>intensity</td><td>NARROW</td><td>4096</td><td>4096</td><td>FULLDISK</td><td>64.64844</td><td>AIA level 1, 4096x4096 [1.999 exposure] [100.00 percentd]</td></tr>\n",
              "<tr><td>2012-03-05 23:30:00.000</td><td>2012-03-05 23:30:01.000</td><td>SDO</td><td>AIA</td><td>171.0 .. 171.0</td><td>JSOC</td><td>intensity</td><td>NARROW</td><td>4096</td><td>4096</td><td>FULLDISK</td><td>64.64844</td><td>AIA level 1, 4096x4096 [1.999 exposure] [100.00 percentd]</td></tr>\n",
              "<tr><td>2012-03-05 23:40:00.000</td><td>2012-03-05 23:40:01.000</td><td>SDO</td><td>AIA</td><td>171.0 .. 171.0</td><td>JSOC</td><td>intensity</td><td>NARROW</td><td>4096</td><td>4096</td><td>FULLDISK</td><td>64.64844</td><td>AIA level 1, 4096x4096 [1.999 exposure] [100.00 percentd]</td></tr>\n",
              "<tr><td>2012-03-05 23:50:00.000</td><td>2012-03-05 23:50:01.000</td><td>SDO</td><td>AIA</td><td>171.0 .. 171.0</td><td>JSOC</td><td>intensity</td><td>NARROW</td><td>4096</td><td>4096</td><td>FULLDISK</td><td>64.64844</td><td>AIA level 1, 4096x4096 [1.999 exposure] [100.00 percentd]</td></tr>\n",
              "<tr><td>2012-03-06 00:00:00.000</td><td>2012-03-06 00:00:01.000</td><td>SDO</td><td>AIA</td><td>171.0 .. 171.0</td><td>JSOC</td><td>intensity</td><td>NARROW</td><td>4096</td><td>4096</td><td>FULLDISK</td><td>64.64844</td><td>AIA level 1, 4096x4096 [1.999 exposure] [100.00 percentd]</td></tr>\n",
              "</table></div></br>"
            ]
          },
          "metadata": {},
          "execution_count": 11
        }
      ]
    },
    {
      "cell_type": "code",
      "source": [
        "results = Fido.search(a.Time(\"2020/01/01\", \"2020/01/01 00:05\"), a.Instrument.aia | a.Instrument.hmi)  \n",
        "results  "
      ],
      "metadata": {
        "colab": {
          "base_uri": "https://localhost:8080/",
          "height": 1000
        },
        "id": "-9jeO0Xq8DXJ",
        "outputId": "12b1879d-efba-464c-d102-36f317c80063"
      },
      "execution_count": null,
      "outputs": [
        {
          "output_type": "execute_result",
          "data": {
            "text/plain": [
              "<sunpy.net.fido_factory.UnifiedResponse object at 0x7f936d4aa190>\n",
              "Results from 2 Providers:\n",
              "\n",
              "201 Results from the VSOClient:\n",
              "Source: http://vso.stanford.edu/cgi-bin/search\n",
              "\n",
              "       Start Time       ...\n",
              "                        ...\n",
              "----------------------- ...\n",
              "2020-01-01 00:00:00.000 ...\n",
              "2020-01-01 00:00:04.000 ...\n",
              "2020-01-01 00:00:05.000 ...\n",
              "2020-01-01 00:00:05.000 ...\n",
              "2020-01-01 00:00:06.000 ...\n",
              "2020-01-01 00:00:09.000 ...\n",
              "2020-01-01 00:00:09.000 ...\n",
              "2020-01-01 00:00:11.000 ...\n",
              "2020-01-01 00:00:12.000 ...\n",
              "2020-01-01 00:00:14.000 ...\n",
              "                    ... ...\n",
              "2020-01-01 00:04:47.000 ...\n",
              "2020-01-01 00:04:48.000 ...\n",
              "2020-01-01 00:04:52.000 ...\n",
              "2020-01-01 00:04:52.000 ...\n",
              "2020-01-01 00:04:53.000 ...\n",
              "2020-01-01 00:04:54.000 ...\n",
              "2020-01-01 00:04:57.000 ...\n",
              "2020-01-01 00:04:57.000 ...\n",
              "2020-01-01 00:04:59.000 ...\n",
              "2020-01-01 00:05:00.000 ...\n",
              "Length = 201 rows\n",
              "\n",
              "21 Results from the VSOClient:\n",
              "Source: http://vso.stanford.edu/cgi-bin/search\n",
              "\n",
              "       Start Time               End Time        ...            Info           \n",
              "                                                ...                           \n",
              "----------------------- ----------------------- ... --------------------------\n",
              "2020-01-01 00:00:22.000 2020-01-01 00:00:23.000 ... 45sec. Continuum intensity\n",
              "2020-01-01 00:00:22.000 2020-01-01 00:00:23.000 ...         45sec. Magnetogram\n",
              "2020-01-01 00:00:22.000 2020-01-01 00:00:23.000 ...         45sec. Dopplergram\n",
              "2020-01-01 00:01:07.000 2020-01-01 00:01:08.000 ... 45sec. Continuum intensity\n",
              "2020-01-01 00:01:07.000 2020-01-01 00:01:08.000 ...         45sec. Magnetogram\n",
              "2020-01-01 00:01:07.000 2020-01-01 00:01:08.000 ...         45sec. Dopplergram\n",
              "2020-01-01 00:01:52.000 2020-01-01 00:01:53.000 ... 45sec. Continuum intensity\n",
              "2020-01-01 00:01:52.000 2020-01-01 00:01:53.000 ...         45sec. Magnetogram\n",
              "2020-01-01 00:01:52.000 2020-01-01 00:01:53.000 ...         45sec. Dopplergram\n",
              "2020-01-01 00:02:37.000 2020-01-01 00:02:38.000 ... 45sec. Continuum intensity\n",
              "2020-01-01 00:02:37.000 2020-01-01 00:02:38.000 ...         45sec. Magnetogram\n",
              "2020-01-01 00:02:37.000 2020-01-01 00:02:38.000 ...         45sec. Dopplergram\n",
              "2020-01-01 00:03:22.000 2020-01-01 00:03:23.000 ... 45sec. Continuum intensity\n",
              "2020-01-01 00:03:22.000 2020-01-01 00:03:23.000 ...         45sec. Magnetogram\n",
              "2020-01-01 00:03:22.000 2020-01-01 00:03:23.000 ...         45sec. Dopplergram\n",
              "2020-01-01 00:04:07.000 2020-01-01 00:04:08.000 ... 45sec. Continuum intensity\n",
              "2020-01-01 00:04:07.000 2020-01-01 00:04:08.000 ...         45sec. Magnetogram\n",
              "2020-01-01 00:04:07.000 2020-01-01 00:04:08.000 ...         45sec. Dopplergram\n",
              "2020-01-01 00:04:52.000 2020-01-01 00:04:53.000 ... 45sec. Continuum intensity\n",
              "2020-01-01 00:04:52.000 2020-01-01 00:04:53.000 ...         45sec. Magnetogram\n",
              "2020-01-01 00:04:52.000 2020-01-01 00:04:53.000 ...         45sec. Dopplergram\n"
            ],
            "text/html": [
              "Results from 2 Providers:</br></br>201 Results from the VSOClient:</br><div><i>VSOQueryResponseTable length=201</i>\n",
              "<table id=\"table140271170287632\" class=\"table-striped table-bordered table-condensed\">\n",
              "<thead><tr><th>Start Time</th><th>End Time</th><th>Source</th><th>Instrument</th><th>Wavelength [2]</th><th>Provider</th><th>Physobs</th><th>Wavetype</th><th>Extent Width</th><th>Extent Length</th><th>Extent Type</th><th>Size</th><th>Info</th></tr></thead>\n",
              "<thead><tr><th></th><th></th><th></th><th></th><th>Angstrom</th><th></th><th></th><th></th><th></th><th></th><th></th><th>Mibyte</th><th></th></tr></thead>\n",
              "<thead><tr><th>object</th><th>object</th><th>str3</th><th>str3</th><th>float64</th><th>str4</th><th>str9</th><th>str6</th><th>str4</th><th>str4</th><th>str8</th><th>float64</th><th>str57</th></tr></thead>\n",
              "<tr><td>2020-01-01 00:00:00.000</td><td>2020-01-01 00:00:01.000</td><td>SDO</td><td>AIA</td><td>335.0 .. 335.0</td><td>JSOC</td><td>intensity</td><td>NARROW</td><td>4096</td><td>4096</td><td>FULLDISK</td><td>64.64844</td><td>AIA level 1, 4096x4096 [2.901 exposure] [100.00 percentd]</td></tr>\n",
              "<tr><td>2020-01-01 00:00:04.000</td><td>2020-01-01 00:00:05.000</td><td>SDO</td><td>AIA</td><td>193.0 .. 193.0</td><td>JSOC</td><td>intensity</td><td>NARROW</td><td>4096</td><td>4096</td><td>FULLDISK</td><td>64.64844</td><td>AIA level 1, 4096x4096 [2.000 exposure] [100.00 percentd]</td></tr>\n",
              "<tr><td>2020-01-01 00:00:05.000</td><td>2020-01-01 00:00:06.000</td><td>SDO</td><td>AIA</td><td>304.0 .. 304.0</td><td>JSOC</td><td>intensity</td><td>NARROW</td><td>4096</td><td>4096</td><td>FULLDISK</td><td>64.64844</td><td>AIA level 1, 4096x4096 [2.902 exposure] [100.00 percentd]</td></tr>\n",
              "<tr><td>2020-01-01 00:00:05.000</td><td>2020-01-01 00:00:06.000</td><td>SDO</td><td>AIA</td><td>4500.0 .. 4500.0</td><td>JSOC</td><td>intensity</td><td>NARROW</td><td>4096</td><td>4096</td><td>FULLDISK</td><td>64.64844</td><td>AIA level 1, 4096x4096 [0.300 exposure] [100.00 percentd]</td></tr>\n",
              "<tr><td>2020-01-01 00:00:06.000</td><td>2020-01-01 00:00:07.000</td><td>SDO</td><td>AIA</td><td>131.0 .. 131.0</td><td>JSOC</td><td>intensity</td><td>NARROW</td><td>4096</td><td>4096</td><td>FULLDISK</td><td>64.64844</td><td>AIA level 1, 4096x4096 [2.901 exposure] [100.00 percentd]</td></tr>\n",
              "<tr><td>2020-01-01 00:00:09.000</td><td>2020-01-01 00:00:10.000</td><td>SDO</td><td>AIA</td><td>171.0 .. 171.0</td><td>JSOC</td><td>intensity</td><td>NARROW</td><td>4096</td><td>4096</td><td>FULLDISK</td><td>64.64844</td><td>AIA level 1, 4096x4096 [2.000 exposure] [100.00 percentd]</td></tr>\n",
              "<tr><td>2020-01-01 00:00:09.000</td><td>2020-01-01 00:00:10.000</td><td>SDO</td><td>AIA</td><td>211.0 .. 211.0</td><td>JSOC</td><td>intensity</td><td>NARROW</td><td>4096</td><td>4096</td><td>FULLDISK</td><td>64.64844</td><td>AIA level 1, 4096x4096 [2.901 exposure] [100.00 percentd]</td></tr>\n",
              "<tr><td>2020-01-01 00:00:11.000</td><td>2020-01-01 00:00:12.000</td><td>SDO</td><td>AIA</td><td>94.0 .. 94.0</td><td>JSOC</td><td>intensity</td><td>NARROW</td><td>4096</td><td>4096</td><td>FULLDISK</td><td>64.64844</td><td>AIA level 1, 4096x4096 [2.901 exposure] [100.00 percentd]</td></tr>\n",
              "<tr><td>2020-01-01 00:00:12.000</td><td>2020-01-01 00:00:13.000</td><td>SDO</td><td>AIA</td><td>335.0 .. 335.0</td><td>JSOC</td><td>intensity</td><td>NARROW</td><td>4096</td><td>4096</td><td>FULLDISK</td><td>64.64844</td><td>AIA level 1, 4096x4096 [2.901 exposure] [100.00 percentd]</td></tr>\n",
              "<tr><td>...</td><td>...</td><td>...</td><td>...</td><td>...</td><td>...</td><td>...</td><td>...</td><td>...</td><td>...</td><td>...</td><td>...</td><td>...</td></tr>\n",
              "<tr><td>2020-01-01 00:04:47.000</td><td>2020-01-01 00:04:48.000</td><td>SDO</td><td>AIA</td><td>94.0 .. 94.0</td><td>JSOC</td><td>intensity</td><td>NARROW</td><td>4096</td><td>4096</td><td>FULLDISK</td><td>64.64844</td><td>AIA level 1, 4096x4096 [2.901 exposure] [100.00 percentd]</td></tr>\n",
              "<tr><td>2020-01-01 00:04:48.000</td><td>2020-01-01 00:04:49.000</td><td>SDO</td><td>AIA</td><td>335.0 .. 335.0</td><td>JSOC</td><td>intensity</td><td>NARROW</td><td>4096</td><td>4096</td><td>FULLDISK</td><td>64.64844</td><td>AIA level 1, 4096x4096 [2.901 exposure] [100.00 percentd]</td></tr>\n",
              "<tr><td>2020-01-01 00:04:52.000</td><td>2020-01-01 00:04:53.000</td><td>SDO</td><td>AIA</td><td>1700.0 .. 1700.0</td><td>JSOC</td><td>intensity</td><td>NARROW</td><td>4096</td><td>4096</td><td>FULLDISK</td><td>64.64844</td><td>AIA level 1, 4096x4096 [1.000 exposure] [100.00 percentd]</td></tr>\n",
              "<tr><td>2020-01-01 00:04:52.000</td><td>2020-01-01 00:04:53.000</td><td>SDO</td><td>AIA</td><td>193.0 .. 193.0</td><td>JSOC</td><td>intensity</td><td>NARROW</td><td>4096</td><td>4096</td><td>FULLDISK</td><td>64.64844</td><td>AIA level 1, 4096x4096 [2.000 exposure] [100.00 percentd]</td></tr>\n",
              "<tr><td>2020-01-01 00:04:53.000</td><td>2020-01-01 00:04:54.000</td><td>SDO</td><td>AIA</td><td>304.0 .. 304.0</td><td>JSOC</td><td>intensity</td><td>NARROW</td><td>4096</td><td>4096</td><td>FULLDISK</td><td>64.64844</td><td>AIA level 1, 4096x4096 [2.902 exposure] [100.00 percentd]</td></tr>\n",
              "<tr><td>2020-01-01 00:04:54.000</td><td>2020-01-01 00:04:55.000</td><td>SDO</td><td>AIA</td><td>131.0 .. 131.0</td><td>JSOC</td><td>intensity</td><td>NARROW</td><td>4096</td><td>4096</td><td>FULLDISK</td><td>64.64844</td><td>AIA level 1, 4096x4096 [2.901 exposure] [100.00 percentd]</td></tr>\n",
              "<tr><td>2020-01-01 00:04:57.000</td><td>2020-01-01 00:04:58.000</td><td>SDO</td><td>AIA</td><td>171.0 .. 171.0</td><td>JSOC</td><td>intensity</td><td>NARROW</td><td>4096</td><td>4096</td><td>FULLDISK</td><td>64.64844</td><td>AIA level 1, 4096x4096 [2.000 exposure] [100.00 percentd]</td></tr>\n",
              "<tr><td>2020-01-01 00:04:57.000</td><td>2020-01-01 00:04:58.000</td><td>SDO</td><td>AIA</td><td>211.0 .. 211.0</td><td>JSOC</td><td>intensity</td><td>NARROW</td><td>4096</td><td>4096</td><td>FULLDISK</td><td>64.64844</td><td>AIA level 1, 4096x4096 [2.901 exposure] [100.00 percentd]</td></tr>\n",
              "<tr><td>2020-01-01 00:04:59.000</td><td>2020-01-01 00:05:00.000</td><td>SDO</td><td>AIA</td><td>94.0 .. 94.0</td><td>JSOC</td><td>intensity</td><td>NARROW</td><td>4096</td><td>4096</td><td>FULLDISK</td><td>64.64844</td><td>AIA level 1, 4096x4096 [2.901 exposure] [100.00 percentd]</td></tr>\n",
              "<tr><td>2020-01-01 00:05:00.000</td><td>2020-01-01 00:05:01.000</td><td>SDO</td><td>AIA</td><td>335.0 .. 335.0</td><td>JSOC</td><td>intensity</td><td>NARROW</td><td>4096</td><td>4096</td><td>FULLDISK</td><td>64.64844</td><td>AIA level 1, 4096x4096 [2.901 exposure] [100.00 percentd]</td></tr>\n",
              "</table></div></br>21 Results from the VSOClient:</br><div><i>VSOQueryResponseTable length=21</i>\n",
              "<table id=\"table140271170288720\" class=\"table-striped table-bordered table-condensed\">\n",
              "<thead><tr><th>Start Time</th><th>End Time</th><th>Source</th><th>Instrument</th><th>Wavelength [2]</th><th>Provider</th><th>Physobs</th><th>Wavetype</th><th>Extent Width</th><th>Extent Length</th><th>Extent Type</th><th>Size</th><th>Info</th></tr></thead>\n",
              "<thead><tr><th></th><th></th><th></th><th></th><th>Angstrom</th><th></th><th></th><th></th><th></th><th></th><th></th><th>Mibyte</th><th></th></tr></thead>\n",
              "<thead><tr><th>object</th><th>object</th><th>str3</th><th>str3</th><th>float64</th><th>str4</th><th>str18</th><th>str6</th><th>str4</th><th>str4</th><th>str8</th><th>float64</th><th>str26</th></tr></thead>\n",
              "<tr><td>2020-01-01 00:00:22.000</td><td>2020-01-01 00:00:23.000</td><td>SDO</td><td>HMI</td><td>6173.0 .. 6174.0</td><td>JSOC</td><td>intensity</td><td>NARROW</td><td>4096</td><td>4096</td><td>FULLDISK</td><td>-0.00098</td><td>45sec. Continuum intensity</td></tr>\n",
              "<tr><td>2020-01-01 00:00:22.000</td><td>2020-01-01 00:00:23.000</td><td>SDO</td><td>HMI</td><td>6173.0 .. 6174.0</td><td>JSOC</td><td>LOS_magnetic_field</td><td>NARROW</td><td>4096</td><td>4096</td><td>FULLDISK</td><td>-0.00098</td><td>45sec. Magnetogram</td></tr>\n",
              "<tr><td>2020-01-01 00:00:22.000</td><td>2020-01-01 00:00:23.000</td><td>SDO</td><td>HMI</td><td>6173.0 .. 6174.0</td><td>JSOC</td><td>LOS_velocity</td><td>NARROW</td><td>4096</td><td>4096</td><td>FULLDISK</td><td>-0.00098</td><td>45sec. Dopplergram</td></tr>\n",
              "<tr><td>2020-01-01 00:01:07.000</td><td>2020-01-01 00:01:08.000</td><td>SDO</td><td>HMI</td><td>6173.0 .. 6174.0</td><td>JSOC</td><td>intensity</td><td>NARROW</td><td>4096</td><td>4096</td><td>FULLDISK</td><td>-0.00098</td><td>45sec. Continuum intensity</td></tr>\n",
              "<tr><td>2020-01-01 00:01:07.000</td><td>2020-01-01 00:01:08.000</td><td>SDO</td><td>HMI</td><td>6173.0 .. 6174.0</td><td>JSOC</td><td>LOS_magnetic_field</td><td>NARROW</td><td>4096</td><td>4096</td><td>FULLDISK</td><td>-0.00098</td><td>45sec. Magnetogram</td></tr>\n",
              "<tr><td>2020-01-01 00:01:07.000</td><td>2020-01-01 00:01:08.000</td><td>SDO</td><td>HMI</td><td>6173.0 .. 6174.0</td><td>JSOC</td><td>LOS_velocity</td><td>NARROW</td><td>4096</td><td>4096</td><td>FULLDISK</td><td>-0.00098</td><td>45sec. Dopplergram</td></tr>\n",
              "<tr><td>2020-01-01 00:01:52.000</td><td>2020-01-01 00:01:53.000</td><td>SDO</td><td>HMI</td><td>6173.0 .. 6174.0</td><td>JSOC</td><td>intensity</td><td>NARROW</td><td>4096</td><td>4096</td><td>FULLDISK</td><td>-0.00098</td><td>45sec. Continuum intensity</td></tr>\n",
              "<tr><td>2020-01-01 00:01:52.000</td><td>2020-01-01 00:01:53.000</td><td>SDO</td><td>HMI</td><td>6173.0 .. 6174.0</td><td>JSOC</td><td>LOS_magnetic_field</td><td>NARROW</td><td>4096</td><td>4096</td><td>FULLDISK</td><td>-0.00098</td><td>45sec. Magnetogram</td></tr>\n",
              "<tr><td>2020-01-01 00:01:52.000</td><td>2020-01-01 00:01:53.000</td><td>SDO</td><td>HMI</td><td>6173.0 .. 6174.0</td><td>JSOC</td><td>LOS_velocity</td><td>NARROW</td><td>4096</td><td>4096</td><td>FULLDISK</td><td>-0.00098</td><td>45sec. Dopplergram</td></tr>\n",
              "<tr><td>2020-01-01 00:02:37.000</td><td>2020-01-01 00:02:38.000</td><td>SDO</td><td>HMI</td><td>6173.0 .. 6174.0</td><td>JSOC</td><td>intensity</td><td>NARROW</td><td>4096</td><td>4096</td><td>FULLDISK</td><td>-0.00098</td><td>45sec. Continuum intensity</td></tr>\n",
              "<tr><td>2020-01-01 00:02:37.000</td><td>2020-01-01 00:02:38.000</td><td>SDO</td><td>HMI</td><td>6173.0 .. 6174.0</td><td>JSOC</td><td>LOS_magnetic_field</td><td>NARROW</td><td>4096</td><td>4096</td><td>FULLDISK</td><td>-0.00098</td><td>45sec. Magnetogram</td></tr>\n",
              "<tr><td>2020-01-01 00:02:37.000</td><td>2020-01-01 00:02:38.000</td><td>SDO</td><td>HMI</td><td>6173.0 .. 6174.0</td><td>JSOC</td><td>LOS_velocity</td><td>NARROW</td><td>4096</td><td>4096</td><td>FULLDISK</td><td>-0.00098</td><td>45sec. Dopplergram</td></tr>\n",
              "<tr><td>2020-01-01 00:03:22.000</td><td>2020-01-01 00:03:23.000</td><td>SDO</td><td>HMI</td><td>6173.0 .. 6174.0</td><td>JSOC</td><td>intensity</td><td>NARROW</td><td>4096</td><td>4096</td><td>FULLDISK</td><td>-0.00098</td><td>45sec. Continuum intensity</td></tr>\n",
              "<tr><td>2020-01-01 00:03:22.000</td><td>2020-01-01 00:03:23.000</td><td>SDO</td><td>HMI</td><td>6173.0 .. 6174.0</td><td>JSOC</td><td>LOS_magnetic_field</td><td>NARROW</td><td>4096</td><td>4096</td><td>FULLDISK</td><td>-0.00098</td><td>45sec. Magnetogram</td></tr>\n",
              "<tr><td>2020-01-01 00:03:22.000</td><td>2020-01-01 00:03:23.000</td><td>SDO</td><td>HMI</td><td>6173.0 .. 6174.0</td><td>JSOC</td><td>LOS_velocity</td><td>NARROW</td><td>4096</td><td>4096</td><td>FULLDISK</td><td>-0.00098</td><td>45sec. Dopplergram</td></tr>\n",
              "<tr><td>2020-01-01 00:04:07.000</td><td>2020-01-01 00:04:08.000</td><td>SDO</td><td>HMI</td><td>6173.0 .. 6174.0</td><td>JSOC</td><td>intensity</td><td>NARROW</td><td>4096</td><td>4096</td><td>FULLDISK</td><td>-0.00098</td><td>45sec. Continuum intensity</td></tr>\n",
              "<tr><td>2020-01-01 00:04:07.000</td><td>2020-01-01 00:04:08.000</td><td>SDO</td><td>HMI</td><td>6173.0 .. 6174.0</td><td>JSOC</td><td>LOS_magnetic_field</td><td>NARROW</td><td>4096</td><td>4096</td><td>FULLDISK</td><td>-0.00098</td><td>45sec. Magnetogram</td></tr>\n",
              "<tr><td>2020-01-01 00:04:07.000</td><td>2020-01-01 00:04:08.000</td><td>SDO</td><td>HMI</td><td>6173.0 .. 6174.0</td><td>JSOC</td><td>LOS_velocity</td><td>NARROW</td><td>4096</td><td>4096</td><td>FULLDISK</td><td>-0.00098</td><td>45sec. Dopplergram</td></tr>\n",
              "<tr><td>2020-01-01 00:04:52.000</td><td>2020-01-01 00:04:53.000</td><td>SDO</td><td>HMI</td><td>6173.0 .. 6174.0</td><td>JSOC</td><td>intensity</td><td>NARROW</td><td>4096</td><td>4096</td><td>FULLDISK</td><td>-0.00098</td><td>45sec. Continuum intensity</td></tr>\n",
              "<tr><td>2020-01-01 00:04:52.000</td><td>2020-01-01 00:04:53.000</td><td>SDO</td><td>HMI</td><td>6173.0 .. 6174.0</td><td>JSOC</td><td>LOS_magnetic_field</td><td>NARROW</td><td>4096</td><td>4096</td><td>FULLDISK</td><td>-0.00098</td><td>45sec. Magnetogram</td></tr>\n",
              "<tr><td>2020-01-01 00:04:52.000</td><td>2020-01-01 00:04:53.000</td><td>SDO</td><td>HMI</td><td>6173.0 .. 6174.0</td><td>JSOC</td><td>LOS_velocity</td><td>NARROW</td><td>4096</td><td>4096</td><td>FULLDISK</td><td>-0.00098</td><td>45sec. Dopplergram</td></tr>\n",
              "</table></div></br>"
            ]
          },
          "metadata": {},
          "execution_count": 81
        }
      ]
    },
    {
      "cell_type": "code",
      "source": [
        "results.all_colnames "
      ],
      "metadata": {
        "colab": {
          "base_uri": "https://localhost:8080/"
        },
        "id": "NwS0T7SS8OYY",
        "outputId": "503b6c7b-7f8d-498c-d3b1-522f174dc4d9"
      },
      "execution_count": null,
      "outputs": [
        {
          "output_type": "execute_result",
          "data": {
            "text/plain": [
              "['End Time',\n",
              " 'Extent Length',\n",
              " 'Extent Type',\n",
              " 'Extent Width',\n",
              " 'Info',\n",
              " 'Instrument',\n",
              " 'Physobs',\n",
              " 'Provider',\n",
              " 'Size',\n",
              " 'Source',\n",
              " 'Start Time',\n",
              " 'Wavelength',\n",
              " 'Wavetype',\n",
              " 'fileid']"
            ]
          },
          "metadata": {},
          "execution_count": 79
        }
      ]
    },
    {
      "cell_type": "code",
      "source": [
        "results.show(\"Start Time\", \"Instrument\", \"Physobs\", \"Wavelength\") "
      ],
      "metadata": {
        "colab": {
          "base_uri": "https://localhost:8080/",
          "height": 618
        },
        "id": "6A71ApGI8RKY",
        "outputId": "2857e6e6-0c82-41ab-bfee-4c6509acd8dd"
      },
      "execution_count": null,
      "outputs": [
        {
          "output_type": "execute_result",
          "data": {
            "text/plain": [
              "<sunpy.net.fido_factory.UnifiedResponse object at 0x7f936d49e990>\n",
              "Results from 1 Provider:\n",
              "\n",
              "21 Results from the VSOClient:\n",
              "Source: http://vso.stanford.edu/cgi-bin/search\n",
              "\n",
              "       Start Time       Instrument      Physobs        Wavelength [2] \n",
              "                                                          Angstrom    \n",
              "----------------------- ---------- ------------------ ----------------\n",
              "2020-01-01 00:00:22.000        HMI          intensity 6173.0 .. 6174.0\n",
              "2020-01-01 00:00:22.000        HMI LOS_magnetic_field 6173.0 .. 6174.0\n",
              "2020-01-01 00:00:22.000        HMI       LOS_velocity 6173.0 .. 6174.0\n",
              "2020-01-01 00:01:07.000        HMI          intensity 6173.0 .. 6174.0\n",
              "2020-01-01 00:01:07.000        HMI LOS_magnetic_field 6173.0 .. 6174.0\n",
              "2020-01-01 00:01:07.000        HMI       LOS_velocity 6173.0 .. 6174.0\n",
              "2020-01-01 00:01:52.000        HMI          intensity 6173.0 .. 6174.0\n",
              "2020-01-01 00:01:52.000        HMI LOS_magnetic_field 6173.0 .. 6174.0\n",
              "2020-01-01 00:01:52.000        HMI       LOS_velocity 6173.0 .. 6174.0\n",
              "2020-01-01 00:02:37.000        HMI          intensity 6173.0 .. 6174.0\n",
              "2020-01-01 00:02:37.000        HMI LOS_magnetic_field 6173.0 .. 6174.0\n",
              "2020-01-01 00:02:37.000        HMI       LOS_velocity 6173.0 .. 6174.0\n",
              "2020-01-01 00:03:22.000        HMI          intensity 6173.0 .. 6174.0\n",
              "2020-01-01 00:03:22.000        HMI LOS_magnetic_field 6173.0 .. 6174.0\n",
              "2020-01-01 00:03:22.000        HMI       LOS_velocity 6173.0 .. 6174.0\n",
              "2020-01-01 00:04:07.000        HMI          intensity 6173.0 .. 6174.0\n",
              "2020-01-01 00:04:07.000        HMI LOS_magnetic_field 6173.0 .. 6174.0\n",
              "2020-01-01 00:04:07.000        HMI       LOS_velocity 6173.0 .. 6174.0\n",
              "2020-01-01 00:04:52.000        HMI          intensity 6173.0 .. 6174.0\n",
              "2020-01-01 00:04:52.000        HMI LOS_magnetic_field 6173.0 .. 6174.0\n",
              "2020-01-01 00:04:52.000        HMI       LOS_velocity 6173.0 .. 6174.0\n"
            ],
            "text/html": [
              "Results from 1 Provider:</br></br>21 Results from the VSOClient:</br><div><i>VSOQueryResponseTable length=21</i>\n",
              "<table id=\"table140271178059408\" class=\"table-striped table-bordered table-condensed\">\n",
              "<thead><tr><th>Start Time</th><th>Instrument</th><th>Physobs</th><th>Wavelength [2]</th></tr></thead>\n",
              "<thead><tr><th></th><th></th><th></th><th>Angstrom</th></tr></thead>\n",
              "<thead><tr><th>object</th><th>str3</th><th>str18</th><th>float64</th></tr></thead>\n",
              "<tr><td>2020-01-01 00:00:22.000</td><td>HMI</td><td>intensity</td><td>6173.0 .. 6174.0</td></tr>\n",
              "<tr><td>2020-01-01 00:00:22.000</td><td>HMI</td><td>LOS_magnetic_field</td><td>6173.0 .. 6174.0</td></tr>\n",
              "<tr><td>2020-01-01 00:00:22.000</td><td>HMI</td><td>LOS_velocity</td><td>6173.0 .. 6174.0</td></tr>\n",
              "<tr><td>2020-01-01 00:01:07.000</td><td>HMI</td><td>intensity</td><td>6173.0 .. 6174.0</td></tr>\n",
              "<tr><td>2020-01-01 00:01:07.000</td><td>HMI</td><td>LOS_magnetic_field</td><td>6173.0 .. 6174.0</td></tr>\n",
              "<tr><td>2020-01-01 00:01:07.000</td><td>HMI</td><td>LOS_velocity</td><td>6173.0 .. 6174.0</td></tr>\n",
              "<tr><td>2020-01-01 00:01:52.000</td><td>HMI</td><td>intensity</td><td>6173.0 .. 6174.0</td></tr>\n",
              "<tr><td>2020-01-01 00:01:52.000</td><td>HMI</td><td>LOS_magnetic_field</td><td>6173.0 .. 6174.0</td></tr>\n",
              "<tr><td>2020-01-01 00:01:52.000</td><td>HMI</td><td>LOS_velocity</td><td>6173.0 .. 6174.0</td></tr>\n",
              "<tr><td>2020-01-01 00:02:37.000</td><td>HMI</td><td>intensity</td><td>6173.0 .. 6174.0</td></tr>\n",
              "<tr><td>2020-01-01 00:02:37.000</td><td>HMI</td><td>LOS_magnetic_field</td><td>6173.0 .. 6174.0</td></tr>\n",
              "<tr><td>2020-01-01 00:02:37.000</td><td>HMI</td><td>LOS_velocity</td><td>6173.0 .. 6174.0</td></tr>\n",
              "<tr><td>2020-01-01 00:03:22.000</td><td>HMI</td><td>intensity</td><td>6173.0 .. 6174.0</td></tr>\n",
              "<tr><td>2020-01-01 00:03:22.000</td><td>HMI</td><td>LOS_magnetic_field</td><td>6173.0 .. 6174.0</td></tr>\n",
              "<tr><td>2020-01-01 00:03:22.000</td><td>HMI</td><td>LOS_velocity</td><td>6173.0 .. 6174.0</td></tr>\n",
              "<tr><td>2020-01-01 00:04:07.000</td><td>HMI</td><td>intensity</td><td>6173.0 .. 6174.0</td></tr>\n",
              "<tr><td>2020-01-01 00:04:07.000</td><td>HMI</td><td>LOS_magnetic_field</td><td>6173.0 .. 6174.0</td></tr>\n",
              "<tr><td>2020-01-01 00:04:07.000</td><td>HMI</td><td>LOS_velocity</td><td>6173.0 .. 6174.0</td></tr>\n",
              "<tr><td>2020-01-01 00:04:52.000</td><td>HMI</td><td>intensity</td><td>6173.0 .. 6174.0</td></tr>\n",
              "<tr><td>2020-01-01 00:04:52.000</td><td>HMI</td><td>LOS_magnetic_field</td><td>6173.0 .. 6174.0</td></tr>\n",
              "<tr><td>2020-01-01 00:04:52.000</td><td>HMI</td><td>LOS_velocity</td><td>6173.0 .. 6174.0</td></tr>\n",
              "</table></div></br>"
            ]
          },
          "metadata": {},
          "execution_count": 80
        }
      ]
    },
    {
      "cell_type": "code",
      "source": [
        "results['vso'].all_colnames"
      ],
      "metadata": {
        "colab": {
          "base_uri": "https://localhost:8080/"
        },
        "id": "0Ddlm0Jj8rFh",
        "outputId": "ec40131f-42b6-4dc2-fefb-6b8e59c2813a"
      },
      "execution_count": null,
      "outputs": [
        {
          "output_type": "execute_result",
          "data": {
            "text/plain": [
              "['End Time',\n",
              " 'Extent Length',\n",
              " 'Extent Type',\n",
              " 'Extent Width',\n",
              " 'Info',\n",
              " 'Instrument',\n",
              " 'Physobs',\n",
              " 'Provider',\n",
              " 'Size',\n",
              " 'Source',\n",
              " 'Start Time',\n",
              " 'Wavelength',\n",
              " 'Wavetype',\n",
              " 'fileid']"
            ]
          },
          "metadata": {},
          "execution_count": 29
        }
      ]
    },
    {
      "cell_type": "code",
      "source": [
        "import numpy as np\n",
        "data = np.array( list(results['vso'].show('Wavelength').__getitem__(0).values())[0][:][:] )[:,0]"
      ],
      "metadata": {
        "id": "uVpcRtWi9wQ7"
      },
      "execution_count": null,
      "outputs": []
    },
    {
      "cell_type": "code",
      "source": [
        "import matplotlib.pyplot as plt\n",
        "%matplotlib inline\n",
        "\n",
        "plt.plot(data)\n",
        "plt.show()\n",
        "\n"
      ],
      "metadata": {
        "colab": {
          "base_uri": "https://localhost:8080/",
          "height": 265
        },
        "id": "rxHvxm_ZAWX6",
        "outputId": "4ed9d040-5ee9-4efd-a6a7-c545cc4985ee"
      },
      "execution_count": null,
      "outputs": [
        {
          "output_type": "display_data",
          "data": {
            "text/plain": [
              "<Figure size 432x288 with 1 Axes>"
            ],
            "image/png": "[encoded data removed]"
          },
          "metadata": {
            "needs_background": "light"
          }
        }
      ]
    },
    {
      "cell_type": "code",
      "source": [
        "tstart = \"2015-06-21 01:00\"\n",
        "tend = \"2015-06-21 23:00\"\n",
        "result = Fido.search(a.Time(tstart, tend), a.Instrument(\"XRS\"))\n",
        "print(result)"
      ],
      "metadata": {
        "colab": {
          "base_uri": "https://localhost:8080/"
        },
        "id": "Th7fHe05BnJq",
        "outputId": "5da43506-fcc0-4b20-ee26-d306e9750499"
      },
      "execution_count": null,
      "outputs": [
        {
          "output_type": "stream",
          "name": "stdout",
          "text": [
            "Results from 1 Provider:\n",
            "\n",
            "3 Results from the XRSClient:\n",
            "Source: https://umbra.nascom.nasa.gov/goes/fits\n",
            "\n",
            "       Start Time               End Time        Instrument ... Source Provider\n",
            "----------------------- ----------------------- ---------- ... ------ --------\n",
            "2015-06-21 00:00:00.000 2015-06-21 23:59:59.999        XRS ...   GOES     NOAA\n",
            "2015-06-21 00:00:00.000 2015-06-21 23:59:59.999        XRS ...   GOES     NOAA\n",
            "2015-06-21 00:00:00.000 2015-06-21 23:59:59.999        XRS ...   GOES     NOAA\n",
            "\n",
            "\n"
          ]
        },
        {
          "output_type": "stream",
          "name": "stderr",
          "text": [
            "/usr/local/lib/python3.7/dist-packages/astropy/table/table.py:3409: FutureWarning: elementwise == comparison failed and returning scalar instead; this will raise an error or perform elementwise comparison in the future.\n",
            "  result = self.as_array() == other\n"
          ]
        }
      ]
    },
    {
      "cell_type": "code",
      "source": [
        "result_goes15 = Fido.search(a.Time(tstart, tend), a.Instrument(\"XRS\"), a.goes.SatelliteNumber(15))\n",
        "print(result_goes15)"
      ],
      "metadata": {
        "colab": {
          "base_uri": "https://localhost:8080/"
        },
        "id": "t0Vytw31BzFq",
        "outputId": "506f17c5-feda-4a06-c2ca-a93b77373e9b"
      },
      "execution_count": null,
      "outputs": [
        {
          "output_type": "stream",
          "name": "stdout",
          "text": [
            "Results from 1 Provider:\n",
            "\n",
            "1 Results from the XRSClient:\n",
            "Source: https://umbra.nascom.nasa.gov/goes/fits\n",
            "\n",
            "       Start Time               End Time        Instrument ... Source Provider\n",
            "----------------------- ----------------------- ---------- ... ------ --------\n",
            "2015-06-21 00:00:00.000 2015-06-21 23:59:59.999        XRS ...   GOES     NOAA\n",
            "\n",
            "\n"
          ]
        }
      ]
    },
    {
      "cell_type": "code",
      "source": [
        "file_goes15 = Fido.fetch(result_goes15)"
      ],
      "metadata": {
        "colab": {
          "base_uri": "https://localhost:8080/",
          "height": 81,
          "referenced_widgets": [
            "51eb0e6483de4610b9abfb7203cafefd",
            "b24236db102140119042fe1582b3bea4",
            "397a46f0947a4d7ea9c1542c50af3277",
            "44cbba66da524c1da8c550e9a6d09c75",
            "9c79f5a3289241eebf9ff2c0486785ef",
            "f1661aa0723d41928bc75f358f583b52",
            "3cb361eafa2744bc940779d60b1a6ce0",
            "08f1056d4d0640a8a3be07f64c417e55",
            "9be2092788a14fc382eae672fbb66506",
            "85fd3dd9950c4b7f9d0788f09eeed08e",
            "ee7d99bea0aa4d74b357d7b41fe412fe",
            "85f045506e7b44f5a72e83555bd115a2",
            "e43e1590a9614b1cad9898fae3572a7d",
            "501ee54468864e02958f2d4e07cad705",
            "d03c5444dbf948e4a76d064b44f77345",
            "cdb55fc139e84a30ab7a44857d444171",
            "f1372ac55d7549f794642d8d58e2228d",
            "7736cc100a5141fc99496a8878dfbff9",
            "fc386e7b80fd4fc282b716f53bf5cc10",
            "7c497854c6914fa1aec4b59f256abb52",
            "fda735409b444de7b5b70b233561f973",
            "cf9704693bd7446e819d1fc0b10a5abe"
          ]
        },
        "id": "S1RvIdSZB5UC",
        "outputId": "71625178-fc5a-43fa-d88f-f5bb85e1baa2"
      },
      "execution_count": null,
      "outputs": [
        {
          "output_type": "display_data",
          "data": {
            "text/plain": [
              "Files Downloaded:   0%|          | 0/1 [00:00<?, ?file/s]"
            ],
            "application/vnd.jupyter.widget-view+json": {
              "version_major": 2,
              "version_minor": 0,
              "model_id": "51eb0e6483de4610b9abfb7203cafefd"
            }
          },
          "metadata": {}
        },
        {
          "output_type": "display_data",
          "data": {
            "text/plain": [
              "sci_gxrs-l2-irrad_g15_d20150621_v0-0-0.nc:   0%|          | 0.00/814k [00:00<?, ?B/s]"
            ],
            "application/vnd.jupyter.widget-view+json": {
              "version_major": 2,
              "version_minor": 0,
              "model_id": "85f045506e7b44f5a72e83555bd115a2"
            }
          },
          "metadata": {}
        }
      ]
    },
    {
      "cell_type": "code",
      "source": [
        "!pip install h5netcdf"
      ],
      "metadata": {
        "colab": {
          "base_uri": "https://localhost:8080/"
        },
        "id": "H36gHa9-CDSi",
        "outputId": "67619648-2f58-48dd-98ed-44a67ef2129d"
      },
      "execution_count": null,
      "outputs": [
        {
          "output_type": "stream",
          "name": "stdout",
          "text": [
            "Collecting h5netcdf\n",
            "  Downloading h5netcdf-0.15.0-py2.py3-none-any.whl (24 kB)\n",
            "Requirement already satisfied: h5py in /usr/local/lib/python3.7/dist-packages (from h5netcdf) (3.1.0)\n",
            "Requirement already satisfied: packaging in /usr/local/lib/python3.7/dist-packages (from h5netcdf) (21.3)\n",
            "Requirement already satisfied: cached-property in /usr/local/lib/python3.7/dist-packages (from h5py->h5netcdf) (1.5.2)\n",
            "Requirement already satisfied: numpy>=1.14.5 in /usr/local/lib/python3.7/dist-packages (from h5py->h5netcdf) (1.21.5)\n",
            "Requirement already satisfied: pyparsing!=3.0.5,>=2.0.2 in /usr/local/lib/python3.7/dist-packages (from packaging->h5netcdf) (3.0.7)\n",
            "Installing collected packages: h5netcdf\n",
            "Successfully installed h5netcdf-0.15.0\n"
          ]
        }
      ]
    },
    {
      "cell_type": "code",
      "source": [
        "import sunpy.timeseries as ts"
      ],
      "metadata": {
        "id": "rZMHqfE2CAx7"
      },
      "execution_count": null,
      "outputs": []
    },
    {
      "cell_type": "code",
      "source": [
        "goes_15 = ts.TimeSeries(file_goes15)\n",
        "goes_15.peek()"
      ],
      "metadata": {
        "colab": {
          "base_uri": "https://localhost:8080/",
          "height": 287
        },
        "id": "HpxNsBqbB8ib",
        "outputId": "1cf0d122-50a2-465f-a263-9770053bee55"
      },
      "execution_count": null,
      "outputs": [
        {
          "output_type": "display_data",
          "data": {
            "text/plain": [
              "<Figure size 432x288 with 2 Axes>"
            ],
            "image/png": "[encoded data removed]"
          },
          "metadata": {
            "needs_background": "light"
          }
        }
      ]
    },
    {
      "cell_type": "code",
      "source": [
        "dir(goes_15)"
      ],
      "metadata": {
        "colab": {
          "base_uri": "https://localhost:8080/"
        },
        "id": "DfJvz06BCRRM",
        "outputId": "b4639311-c896-4664-decd-5d919274b1cf"
      },
      "execution_count": null,
      "outputs": [
        {
          "output_type": "execute_result",
          "data": {
            "text/plain": [
              "['__class__',\n",
              " '__delattr__',\n",
              " '__dict__',\n",
              " '__dir__',\n",
              " '__doc__',\n",
              " '__eq__',\n",
              " '__format__',\n",
              " '__ge__',\n",
              " '__getattribute__',\n",
              " '__gt__',\n",
              " '__hash__',\n",
              " '__init__',\n",
              " '__init_subclass__',\n",
              " '__le__',\n",
              " '__lt__',\n",
              " '__module__',\n",
              " '__ne__',\n",
              " '__new__',\n",
              " '__reduce__',\n",
              " '__reduce_ex__',\n",
              " '__repr__',\n",
              " '__setattr__',\n",
              " '__sizeof__',\n",
              " '__str__',\n",
              " '__subclasshook__',\n",
              " '__weakref__',\n",
              " '_data',\n",
              " '_netcdf_read_kw',\n",
              " '_parse_file',\n",
              " '_parse_hdus',\n",
              " '_parse_netcdf',\n",
              " '_registry',\n",
              " '_sanitize_metadata',\n",
              " '_sanitize_units',\n",
              " '_source',\n",
              " '_validate_data_for_plotting',\n",
              " '_validate_meta',\n",
              " '_validate_units',\n",
              " 'add_column',\n",
              " 'columns',\n",
              " 'concatenate',\n",
              " 'data',\n",
              " 'extract',\n",
              " 'h5netcdf_version',\n",
              " 'index',\n",
              " 'is_datasource_for',\n",
              " 'meta',\n",
              " 'observatory',\n",
              " 'peek',\n",
              " 'plot',\n",
              " 'quantity',\n",
              " 'remove_column',\n",
              " 'shape',\n",
              " 'sort_index',\n",
              " 'source',\n",
              " 'time_range',\n",
              " 'to_array',\n",
              " 'to_dataframe',\n",
              " 'to_table',\n",
              " 'truncate',\n",
              " 'units']"
            ]
          },
          "metadata": {},
          "execution_count": 95
        }
      ]
    },
    {
      "cell_type": "code",
      "source": [
        "goes_15.columns"
      ],
      "metadata": {
        "colab": {
          "base_uri": "https://localhost:8080/"
        },
        "id": "uRgIL8GQCozq",
        "outputId": "5383192b-24bb-4864-d0f2-9d110aa57320"
      },
      "execution_count": null,
      "outputs": [
        {
          "output_type": "execute_result",
          "data": {
            "text/plain": [
              "['xrsa', 'xrsb']"
            ]
          },
          "metadata": {},
          "execution_count": 98
        }
      ]
    },
    {
      "cell_type": "code",
      "source": [
        "goes_15.extract('xrsa').to_array() "
      ],
      "metadata": {
        "colab": {
          "base_uri": "https://localhost:8080/"
        },
        "id": "uEFQ-0vrCy4D",
        "outputId": "c13aefa5-0801-481e-851b-431866222ce0"
      },
      "execution_count": null,
      "outputs": [
        {
          "output_type": "execute_result",
          "data": {
            "text/plain": [
              "array([[1.5095591e-08],\n",
              "       [1.2462315e-08],\n",
              "       [1.1145677e-08],\n",
              "       ...,\n",
              "       [1.1145677e-08],\n",
              "       [1.2462315e-08],\n",
              "       [1.2462315e-08]], dtype=float32)"
            ]
          },
          "metadata": {},
          "execution_count": 101
        }
      ]
    },
    {
      "cell_type": "code",
      "source": [
        "goes_15.extract('xrsa').to_dataframe()"
      ],
      "metadata": {
        "colab": {
          "base_uri": "https://localhost:8080/",
          "height": 424
        },
        "id": "L5TtsHE8DGO8",
        "outputId": "3d91f64f-4a49-4b4e-b419-27b9d8ffe292"
      },
      "execution_count": null,
      "outputs": [
        {
          "output_type": "execute_result",
          "data": {
            "text/plain": [
              "                                 xrsa\n",
              "2015-06-21 00:00:00.368  1.509559e-08\n",
              "2015-06-21 00:00:02.415  1.246231e-08\n",
              "2015-06-21 00:00:04.465  1.114568e-08\n",
              "2015-06-21 00:00:06.511  1.114568e-08\n",
              "2015-06-21 00:00:08.558  1.114568e-08\n",
              "...                               ...\n",
              "2015-06-21 23:59:50.728  1.246231e-08\n",
              "2015-06-21 23:59:52.775  1.246231e-08\n",
              "2015-06-21 23:59:54.825  1.114568e-08\n",
              "2015-06-21 23:59:56.871  1.246231e-08\n",
              "2015-06-21 23:59:58.918  1.246231e-08\n",
              "\n",
              "[41320 rows x 1 columns]"
            ],
            "text/html": [
              "\n",
              "  <div id=\"df-e0d33cb4-4f9a-4607-84ef-529813299686\">\n",
              "    <div class=\"colab-df-container\">\n",
              "      <div>\n",
              "<style scoped>\n",
              "    .dataframe tbody tr th:only-of-type {\n",
              "        vertical-align: middle;\n",
              "    }\n",
              "\n",
              "    .dataframe tbody tr th {\n",
              "        vertical-align: top;\n",
              "    }\n",
              "\n",
              "    .dataframe thead th {\n",
              "        text-align: right;\n",
              "    }\n",
              "</style>\n",
              "<table border=\"1\" class=\"dataframe\">\n",
              "  <thead>\n",
              "    <tr style=\"text-align: right;\">\n",
              "      <th></th>\n",
              "      <th>xrsa</th>\n",
              "    </tr>\n",
              "  </thead>\n",
              "  <tbody>\n",
              "    <tr>\n",
              "      <th>2015-06-21 00:00:00.368</th>\n",
              "      <td>1.509559e-08</td>\n",
              "    </tr>\n",
              "    <tr>\n",
              "      <th>2015-06-21 00:00:02.415</th>\n",
              "      <td>1.246231e-08</td>\n",
              "    </tr>\n",
              "    <tr>\n",
              "      <th>2015-06-21 00:00:04.465</th>\n",
              "      <td>1.114568e-08</td>\n",
              "    </tr>\n",
              "    <tr>\n",
              "      <th>2015-06-21 00:00:06.511</th>\n",
              "      <td>1.114568e-08</td>\n",
              "    </tr>\n",
              "    <tr>\n",
              "      <th>2015-06-21 00:00:08.558</th>\n",
              "      <td>1.114568e-08</td>\n",
              "    </tr>\n",
              "    <tr>\n",
              "      <th>...</th>\n",
              "      <td>...</td>\n",
              "    </tr>\n",
              "    <tr>\n",
              "      <th>2015-06-21 23:59:50.728</th>\n",
              "      <td>1.246231e-08</td>\n",
              "    </tr>\n",
              "    <tr>\n",
              "      <th>2015-06-21 23:59:52.775</th>\n",
              "      <td>1.246231e-08</td>\n",
              "    </tr>\n",
              "    <tr>\n",
              "      <th>2015-06-21 23:59:54.825</th>\n",
              "      <td>1.114568e-08</td>\n",
              "    </tr>\n",
              "    <tr>\n",
              "      <th>2015-06-21 23:59:56.871</th>\n",
              "      <td>1.246231e-08</td>\n",
              "    </tr>\n",
              "    <tr>\n",
              "      <th>2015-06-21 23:59:58.918</th>\n",
              "      <td>1.246231e-08</td>\n",
              "    </tr>\n",
              "  </tbody>\n",
              "</table>\n",
              "<p>41320 rows × 1 columns</p>\n",
              "</div>\n",
              "      <button class=\"colab-df-convert\" onclick=\"convertToInteractive('df-e0d33cb4-4f9a-4607-84ef-529813299686')\"\n",
              "              title=\"Convert this dataframe to an interactive table.\"\n",
              "              style=\"display:none;\">\n",
              "        \n",
              "  <svg xmlns=\"http://www.w3.org/2000/svg\" height=\"24px\"viewBox=\"0 0 24 24\"\n",
              "       width=\"24px\">\n",
              "    <path d=\"M0 0h24v24H0V0z\" fill=\"none\"/>\n",
              "    <path d=\"M18.56 5.44l.94 2.06.94-2.06 2.06-.94-2.06-.94-.94-2.06-.94 2.06-2.06.94zm-11 1L8.5 8.5l.94-2.06 2.06-.94-2.06-.94L8.5 2.5l-.94 2.06-2.06.94zm10 10l.94 2.06.94-2.06 2.06-.94-2.06-.94-.94-2.06-.94 2.06-2.06.94z\"/><path d=\"M17.41 7.96l-1.37-1.37c-.4-.4-.92-.59-1.43-.59-.52 0-1.04.2-1.43.59L10.3 9.45l-7.72 7.72c-.78.78-.78 2.05 0 2.83L4 21.41c.39.39.9.59 1.41.59.51 0 1.02-.2 1.41-.59l7.78-7.78 2.81-2.81c.8-.78.8-2.07 0-2.86zM5.41 20L4 18.59l7.72-7.72 1.47 1.35L5.41 20z\"/>\n",
              "  </svg>\n",
              "      </button>\n",
              "      \n",
              "  <style>\n",
              "    .colab-df-container {\n",
              "      display:flex;\n",
              "      flex-wrap:wrap;\n",
              "      gap: 12px;\n",
              "    }\n",
              "\n",
              "    .colab-df-convert {\n",
              "      background-color: #E8F0FE;\n",
              "      border: none;\n",
              "      border-radius: 50%;\n",
              "      cursor: pointer;\n",
              "      display: none;\n",
              "      fill: #1967D2;\n",
              "      height: 32px;\n",
              "      padding: 0 0 0 0;\n",
              "      width: 32px;\n",
              "    }\n",
              "\n",
              "    .colab-df-convert:hover {\n",
              "      background-color: #E2EBFA;\n",
              "      box-shadow: 0px 1px 2px rgba(60, 64, 67, 0.3), 0px 1px 3px 1px rgba(60, 64, 67, 0.15);\n",
              "      fill: #174EA6;\n",
              "    }\n",
              "\n",
              "    [theme=dark] .colab-df-convert {\n",
              "      background-color: #3B4455;\n",
              "      fill: #D2E3FC;\n",
              "    }\n",
              "\n",
              "    [theme=dark] .colab-df-convert:hover {\n",
              "      background-color: #434B5C;\n",
              "      box-shadow: 0px 1px 3px 1px rgba(0, 0, 0, 0.15);\n",
              "      filter: drop-shadow(0px 1px 2px rgba(0, 0, 0, 0.3));\n",
              "      fill: #FFFFFF;\n",
              "    }\n",
              "  </style>\n",
              "\n",
              "      <script>\n",
              "        const buttonEl =\n",
              "          document.querySelector('#df-e0d33cb4-4f9a-4607-84ef-529813299686 button.colab-df-convert');\n",
              "        buttonEl.style.display =\n",
              "          google.colab.kernel.accessAllowed ? 'block' : 'none';\n",
              "\n",
              "        async function convertToInteractive(key) {\n",
              "          const element = document.querySelector('#df-e0d33cb4-4f9a-4607-84ef-529813299686');\n",
              "          const dataTable =\n",
              "            await google.colab.kernel.invokeFunction('convertToInteractive',\n",
              "                                                     [key], {});\n",
              "          if (!dataTable) return;\n",
              "\n",
              "          const docLinkHtml = 'Like what you see? Visit the ' +\n",
              "            '<a target=\"_blank\" href=https://colab.research.google.com/notebooks/data_table.ipynb>data table notebook</a>'\n",
              "            + ' to learn more about interactive tables.';\n",
              "          element.innerHTML = '';\n",
              "          dataTable['output_type'] = 'display_data';\n",
              "          await google.colab.output.renderOutput(dataTable, element);\n",
              "          const docLink = document.createElement('div');\n",
              "          docLink.innerHTML = docLinkHtml;\n",
              "          element.appendChild(docLink);\n",
              "        }\n",
              "      </script>\n",
              "    </div>\n",
              "  </div>\n",
              "  "
            ]
          },
          "metadata": {},
          "execution_count": 102
        }
      ]
    },
    {
      "cell_type": "code",
      "source": [
        "goes_15.extract('xrsa').to_table()"
      ],
      "metadata": {
        "colab": {
          "base_uri": "https://localhost:8080/",
          "height": 528
        },
        "id": "OnFW5eXZDKFz",
        "outputId": "61dd1e44-58a6-4e51-cb03-94d772953bf5"
      },
      "execution_count": null,
      "outputs": [
        {
          "output_type": "execute_result",
          "data": {
            "text/plain": [
              "<Table length=41320>\n",
              "             date                  xrsa    \n",
              "                                  W / m2   \n",
              "        datetime64[ns]           float32   \n",
              "----------------------------- -------------\n",
              "2015-06-21T00:00:00.368000000  1.509559e-08\n",
              "2015-06-21T00:00:02.415000000 1.2462315e-08\n",
              "2015-06-21T00:00:04.465000000 1.1145677e-08\n",
              "2015-06-21T00:00:06.511000000 1.1145677e-08\n",
              "2015-06-21T00:00:08.558000000 1.1145677e-08\n",
              "2015-06-21T00:00:10.608000000   9.82904e-09\n",
              "2015-06-21T00:00:22.895000000 1.2462315e-08\n",
              "2015-06-21T00:00:24.945000000 1.3778952e-08\n",
              "2015-06-21T00:00:26.991000000 1.1145677e-08\n",
              "                          ...           ...\n",
              "2015-06-21T23:59:40.488000000 1.2462315e-08\n",
              "2015-06-21T23:59:42.535000000 1.1145677e-08\n",
              "2015-06-21T23:59:44.585000000 1.1145677e-08\n",
              "2015-06-21T23:59:46.631000000 1.2462315e-08\n",
              "2015-06-21T23:59:48.678000000 1.1145677e-08\n",
              "2015-06-21T23:59:50.728000000 1.2462315e-08\n",
              "2015-06-21T23:59:52.775000000 1.2462315e-08\n",
              "2015-06-21T23:59:54.825000000 1.1145677e-08\n",
              "2015-06-21T23:59:56.871000000 1.2462315e-08\n",
              "2015-06-21T23:59:58.918000000 1.2462315e-08"
            ],
            "text/html": [
              "<div><i>Table length=41320</i>\n",
              "<table id=\"table140271055971024\" class=\"table-striped table-bordered table-condensed\">\n",
              "<thead><tr><th>date</th><th>xrsa</th></tr></thead>\n",
              "<thead><tr><th></th><th>W / m2</th></tr></thead>\n",
              "<thead><tr><th>datetime64[ns]</th><th>float32</th></tr></thead>\n",
              "<tr><td>2015-06-21T00:00:00.368000000</td><td>1.509559e-08</td></tr>\n",
              "<tr><td>2015-06-21T00:00:02.415000000</td><td>1.2462315e-08</td></tr>\n",
              "<tr><td>2015-06-21T00:00:04.465000000</td><td>1.1145677e-08</td></tr>\n",
              "<tr><td>2015-06-21T00:00:06.511000000</td><td>1.1145677e-08</td></tr>\n",
              "<tr><td>2015-06-21T00:00:08.558000000</td><td>1.1145677e-08</td></tr>\n",
              "<tr><td>2015-06-21T00:00:10.608000000</td><td>9.82904e-09</td></tr>\n",
              "<tr><td>2015-06-21T00:00:22.895000000</td><td>1.2462315e-08</td></tr>\n",
              "<tr><td>2015-06-21T00:00:24.945000000</td><td>1.3778952e-08</td></tr>\n",
              "<tr><td>2015-06-21T00:00:26.991000000</td><td>1.1145677e-08</td></tr>\n",
              "<tr><td>...</td><td>...</td></tr>\n",
              "<tr><td>2015-06-21T23:59:40.488000000</td><td>1.2462315e-08</td></tr>\n",
              "<tr><td>2015-06-21T23:59:42.535000000</td><td>1.1145677e-08</td></tr>\n",
              "<tr><td>2015-06-21T23:59:44.585000000</td><td>1.1145677e-08</td></tr>\n",
              "<tr><td>2015-06-21T23:59:46.631000000</td><td>1.2462315e-08</td></tr>\n",
              "<tr><td>2015-06-21T23:59:48.678000000</td><td>1.1145677e-08</td></tr>\n",
              "<tr><td>2015-06-21T23:59:50.728000000</td><td>1.2462315e-08</td></tr>\n",
              "<tr><td>2015-06-21T23:59:52.775000000</td><td>1.2462315e-08</td></tr>\n",
              "<tr><td>2015-06-21T23:59:54.825000000</td><td>1.1145677e-08</td></tr>\n",
              "<tr><td>2015-06-21T23:59:56.871000000</td><td>1.2462315e-08</td></tr>\n",
              "<tr><td>2015-06-21T23:59:58.918000000</td><td>1.2462315e-08</td></tr>\n",
              "</table></div>"
            ]
          },
          "metadata": {},
          "execution_count": 103
        }
      ]
    },
    {
      "cell_type": "code",
      "execution_count": null,
      "metadata": {
        "colab": {
          "base_uri": "https://localhost:8080/",
          "height": 287
        },
        "id": "ejGMn9Ys31Ng",
        "outputId": "d3c5aa6a-bcd5-48b4-dee1-9d5385512994"
      },
      "outputs": [
        {
          "output_type": "display_data",
          "data": {
            "text/plain": [
              "<Figure size 432x288 with 2 Axes>"
            ],
            "image/png": "[encoded data removed]"
          },
          "metadata": {
            "needs_background": "light"
          }
        }
      ],
      "source": [
        "import numpy as np\n",
        "import sunpy.data.sample\n",
        "import sunpy.timeseries as ts\n",
        "\n",
        "my_timeseries = ts.TimeSeries(sunpy.data.sample.GOES_XRS_TIMESERIES, source='XRS')\n",
        "my_timeseries.peek()"
      ]
    }
  ]
}